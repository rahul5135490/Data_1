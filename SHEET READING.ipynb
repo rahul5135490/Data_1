{
 "cells": [
  {
   "cell_type": "code",
   "execution_count": 1,
   "id": "b50bf77d",
   "metadata": {},
   "outputs": [],
   "source": [
    "import pandas as pd"
   ]
  },
  {
   "cell_type": "code",
   "execution_count": 2,
   "id": "4da15f62",
   "metadata": {},
   "outputs": [],
   "source": [
    "import xlrd "
   ]
  },
  {
   "cell_type": "code",
   "execution_count": 3,
   "id": "4a9a5729",
   "metadata": {},
   "outputs": [],
   "source": [
    "df = pd.ExcelFile(r'C:\\Users\\rcmlp.12\\Desktop\\Rahul_control_charts_int_mirep_29_July_new\\PIREP\\Q1\\pirep_Data_Q1.xlsx')"
   ]
  },
  {
   "cell_type": "code",
   "execution_count": 4,
   "id": "06dee401",
   "metadata": {},
   "outputs": [
    {
     "data": {
      "text/plain": [
       "['MAIN_PIVOT',\n",
       " 'MAIN_TABLE',\n",
       " '21',\n",
       " '22',\n",
       " '23',\n",
       " '24',\n",
       " '25',\n",
       " '26',\n",
       " '27',\n",
       " '28',\n",
       " '29',\n",
       " '32',\n",
       " '34',\n",
       " '36']"
      ]
     },
     "execution_count": 4,
     "metadata": {},
     "output_type": "execute_result"
    }
   ],
   "source": [
    "df.sheet_names"
   ]
  },
  {
   "cell_type": "code",
   "execution_count": 5,
   "id": "2c684113",
   "metadata": {},
   "outputs": [
    {
     "data": {
      "text/html": [
       "<div>\n",
       "<style scoped>\n",
       "    .dataframe tbody tr th:only-of-type {\n",
       "        vertical-align: middle;\n",
       "    }\n",
       "\n",
       "    .dataframe tbody tr th {\n",
       "        vertical-align: top;\n",
       "    }\n",
       "\n",
       "    .dataframe thead th {\n",
       "        text-align: right;\n",
       "    }\n",
       "</style>\n",
       "<table border=\"1\" class=\"dataframe\">\n",
       "  <thead>\n",
       "    <tr style=\"text-align: right;\">\n",
       "      <th></th>\n",
       "      <th>CHAPTER</th>\n",
       "      <th>AC_REG_NUMBER</th>\n",
       "      <th>AC_MODEL</th>\n",
       "      <th>MONTH_CODE</th>\n",
       "      <th>CYCLES</th>\n",
       "      <th>PIREP</th>\n",
       "    </tr>\n",
       "  </thead>\n",
       "  <tbody>\n",
       "    <tr>\n",
       "      <th>0</th>\n",
       "      <td>2</td>\n",
       "      <td>N249BA</td>\n",
       "      <td>B747</td>\n",
       "      <td>202201</td>\n",
       "      <td>1</td>\n",
       "      <td>0</td>\n",
       "    </tr>\n",
       "    <tr>\n",
       "      <th>1</th>\n",
       "      <td>2</td>\n",
       "      <td>N249BA</td>\n",
       "      <td>B747</td>\n",
       "      <td>202202</td>\n",
       "      <td>1</td>\n",
       "      <td>0</td>\n",
       "    </tr>\n",
       "    <tr>\n",
       "      <th>2</th>\n",
       "      <td>2</td>\n",
       "      <td>N249BA</td>\n",
       "      <td>B747</td>\n",
       "      <td>202203</td>\n",
       "      <td>10</td>\n",
       "      <td>0</td>\n",
       "    </tr>\n",
       "    <tr>\n",
       "      <th>3</th>\n",
       "      <td>2</td>\n",
       "      <td>N263SG</td>\n",
       "      <td>B747</td>\n",
       "      <td>202201</td>\n",
       "      <td>5</td>\n",
       "      <td>0</td>\n",
       "    </tr>\n",
       "    <tr>\n",
       "      <th>4</th>\n",
       "      <td>2</td>\n",
       "      <td>N263SG</td>\n",
       "      <td>B747</td>\n",
       "      <td>202202</td>\n",
       "      <td>2</td>\n",
       "      <td>0</td>\n",
       "    </tr>\n",
       "    <tr>\n",
       "      <th>...</th>\n",
       "      <td>...</td>\n",
       "      <td>...</td>\n",
       "      <td>...</td>\n",
       "      <td>...</td>\n",
       "      <td>...</td>\n",
       "      <td>...</td>\n",
       "    </tr>\n",
       "    <tr>\n",
       "      <th>5656</th>\n",
       "      <td>80</td>\n",
       "      <td>N858GT</td>\n",
       "      <td>B747</td>\n",
       "      <td>202202</td>\n",
       "      <td>58</td>\n",
       "      <td>0</td>\n",
       "    </tr>\n",
       "    <tr>\n",
       "      <th>5657</th>\n",
       "      <td>80</td>\n",
       "      <td>N858GT</td>\n",
       "      <td>B747</td>\n",
       "      <td>202203</td>\n",
       "      <td>67</td>\n",
       "      <td>0</td>\n",
       "    </tr>\n",
       "    <tr>\n",
       "      <th>5658</th>\n",
       "      <td>80</td>\n",
       "      <td>N859GT</td>\n",
       "      <td>B747</td>\n",
       "      <td>202201</td>\n",
       "      <td>55</td>\n",
       "      <td>0</td>\n",
       "    </tr>\n",
       "    <tr>\n",
       "      <th>5659</th>\n",
       "      <td>80</td>\n",
       "      <td>N859GT</td>\n",
       "      <td>B747</td>\n",
       "      <td>202202</td>\n",
       "      <td>51</td>\n",
       "      <td>0</td>\n",
       "    </tr>\n",
       "    <tr>\n",
       "      <th>5660</th>\n",
       "      <td>80</td>\n",
       "      <td>N859GT</td>\n",
       "      <td>B747</td>\n",
       "      <td>202203</td>\n",
       "      <td>68</td>\n",
       "      <td>0</td>\n",
       "    </tr>\n",
       "  </tbody>\n",
       "</table>\n",
       "<p>5661 rows × 6 columns</p>\n",
       "</div>"
      ],
      "text/plain": [
       "      CHAPTER AC_REG_NUMBER AC_MODEL  MONTH_CODE  CYCLES  PIREP\n",
       "0           2        N249BA     B747      202201       1      0\n",
       "1           2        N249BA     B747      202202       1      0\n",
       "2           2        N249BA     B747      202203      10      0\n",
       "3           2        N263SG     B747      202201       5      0\n",
       "4           2        N263SG     B747      202202       2      0\n",
       "...       ...           ...      ...         ...     ...    ...\n",
       "5656       80        N858GT     B747      202202      58      0\n",
       "5657       80        N858GT     B747      202203      67      0\n",
       "5658       80        N859GT     B747      202201      55      0\n",
       "5659       80        N859GT     B747      202202      51      0\n",
       "5660       80        N859GT     B747      202203      68      0\n",
       "\n",
       "[5661 rows x 6 columns]"
      ]
     },
     "execution_count": 5,
     "metadata": {},
     "output_type": "execute_result"
    }
   ],
   "source": [
    "df.parse('MAIN_TABLE')"
   ]
  },
  {
   "cell_type": "code",
   "execution_count": 7,
   "id": "3baaa15b",
   "metadata": {},
   "outputs": [
    {
     "data": {
      "text/plain": [
       "CHAPTER           int64\n",
       "AC_REG_NUMBER    object\n",
       "AC_MODEL         object\n",
       "MONTH_CODE        int64\n",
       "CYCLES            int64\n",
       "PIREP             int64\n",
       "dtype: object"
      ]
     },
     "execution_count": 7,
     "metadata": {},
     "output_type": "execute_result"
    }
   ],
   "source": [
    "df.parse('MAIN_TABLE').dtypes"
   ]
  },
  {
   "cell_type": "code",
   "execution_count": 8,
   "id": "02e0f741",
   "metadata": {},
   "outputs": [],
   "source": [
    "df9=df.parse('MAIN_TABLE')"
   ]
  },
  {
   "cell_type": "code",
   "execution_count": 9,
   "id": "92f0cffe",
   "metadata": {},
   "outputs": [
    {
     "data": {
      "text/html": [
       "<div>\n",
       "<style scoped>\n",
       "    .dataframe tbody tr th:only-of-type {\n",
       "        vertical-align: middle;\n",
       "    }\n",
       "\n",
       "    .dataframe tbody tr th {\n",
       "        vertical-align: top;\n",
       "    }\n",
       "\n",
       "    .dataframe thead th {\n",
       "        text-align: right;\n",
       "    }\n",
       "</style>\n",
       "<table border=\"1\" class=\"dataframe\">\n",
       "  <thead>\n",
       "    <tr style=\"text-align: right;\">\n",
       "      <th></th>\n",
       "      <th>CHAPTER</th>\n",
       "      <th>AC_REG_NUMBER</th>\n",
       "      <th>AC_MODEL</th>\n",
       "      <th>MONTH_CODE</th>\n",
       "      <th>CYCLES</th>\n",
       "      <th>PIREP</th>\n",
       "    </tr>\n",
       "  </thead>\n",
       "  <tbody>\n",
       "    <tr>\n",
       "      <th>0</th>\n",
       "      <td>2</td>\n",
       "      <td>N249BA</td>\n",
       "      <td>B747</td>\n",
       "      <td>202201</td>\n",
       "      <td>1</td>\n",
       "      <td>0</td>\n",
       "    </tr>\n",
       "    <tr>\n",
       "      <th>1</th>\n",
       "      <td>2</td>\n",
       "      <td>N249BA</td>\n",
       "      <td>B747</td>\n",
       "      <td>202202</td>\n",
       "      <td>1</td>\n",
       "      <td>0</td>\n",
       "    </tr>\n",
       "    <tr>\n",
       "      <th>2</th>\n",
       "      <td>2</td>\n",
       "      <td>N249BA</td>\n",
       "      <td>B747</td>\n",
       "      <td>202203</td>\n",
       "      <td>10</td>\n",
       "      <td>0</td>\n",
       "    </tr>\n",
       "    <tr>\n",
       "      <th>3</th>\n",
       "      <td>2</td>\n",
       "      <td>N263SG</td>\n",
       "      <td>B747</td>\n",
       "      <td>202201</td>\n",
       "      <td>5</td>\n",
       "      <td>0</td>\n",
       "    </tr>\n",
       "    <tr>\n",
       "      <th>4</th>\n",
       "      <td>2</td>\n",
       "      <td>N263SG</td>\n",
       "      <td>B747</td>\n",
       "      <td>202202</td>\n",
       "      <td>2</td>\n",
       "      <td>0</td>\n",
       "    </tr>\n",
       "    <tr>\n",
       "      <th>...</th>\n",
       "      <td>...</td>\n",
       "      <td>...</td>\n",
       "      <td>...</td>\n",
       "      <td>...</td>\n",
       "      <td>...</td>\n",
       "      <td>...</td>\n",
       "    </tr>\n",
       "    <tr>\n",
       "      <th>5656</th>\n",
       "      <td>80</td>\n",
       "      <td>N858GT</td>\n",
       "      <td>B747</td>\n",
       "      <td>202202</td>\n",
       "      <td>58</td>\n",
       "      <td>0</td>\n",
       "    </tr>\n",
       "    <tr>\n",
       "      <th>5657</th>\n",
       "      <td>80</td>\n",
       "      <td>N858GT</td>\n",
       "      <td>B747</td>\n",
       "      <td>202203</td>\n",
       "      <td>67</td>\n",
       "      <td>0</td>\n",
       "    </tr>\n",
       "    <tr>\n",
       "      <th>5658</th>\n",
       "      <td>80</td>\n",
       "      <td>N859GT</td>\n",
       "      <td>B747</td>\n",
       "      <td>202201</td>\n",
       "      <td>55</td>\n",
       "      <td>0</td>\n",
       "    </tr>\n",
       "    <tr>\n",
       "      <th>5659</th>\n",
       "      <td>80</td>\n",
       "      <td>N859GT</td>\n",
       "      <td>B747</td>\n",
       "      <td>202202</td>\n",
       "      <td>51</td>\n",
       "      <td>0</td>\n",
       "    </tr>\n",
       "    <tr>\n",
       "      <th>5660</th>\n",
       "      <td>80</td>\n",
       "      <td>N859GT</td>\n",
       "      <td>B747</td>\n",
       "      <td>202203</td>\n",
       "      <td>68</td>\n",
       "      <td>0</td>\n",
       "    </tr>\n",
       "  </tbody>\n",
       "</table>\n",
       "<p>5661 rows × 6 columns</p>\n",
       "</div>"
      ],
      "text/plain": [
       "      CHAPTER AC_REG_NUMBER AC_MODEL  MONTH_CODE  CYCLES  PIREP\n",
       "0           2        N249BA     B747      202201       1      0\n",
       "1           2        N249BA     B747      202202       1      0\n",
       "2           2        N249BA     B747      202203      10      0\n",
       "3           2        N263SG     B747      202201       5      0\n",
       "4           2        N263SG     B747      202202       2      0\n",
       "...       ...           ...      ...         ...     ...    ...\n",
       "5656       80        N858GT     B747      202202      58      0\n",
       "5657       80        N858GT     B747      202203      67      0\n",
       "5658       80        N859GT     B747      202201      55      0\n",
       "5659       80        N859GT     B747      202202      51      0\n",
       "5660       80        N859GT     B747      202203      68      0\n",
       "\n",
       "[5661 rows x 6 columns]"
      ]
     },
     "execution_count": 9,
     "metadata": {},
     "output_type": "execute_result"
    }
   ],
   "source": [
    "df9"
   ]
  },
  {
   "cell_type": "code",
   "execution_count": 10,
   "id": "c3b2ba3b",
   "metadata": {},
   "outputs": [
    {
     "data": {
      "text/plain": [
       "CHAPTER               2\n",
       "AC_REG_NUMBER    N249BA\n",
       "AC_MODEL           B747\n",
       "MONTH_CODE       202201\n",
       "CYCLES                1\n",
       "PIREP                 0\n",
       "Name: 0, dtype: object"
      ]
     },
     "execution_count": 10,
     "metadata": {},
     "output_type": "execute_result"
    }
   ],
   "source": [
    "df9.loc[0]"
   ]
  },
  {
   "cell_type": "code",
   "execution_count": 11,
   "id": "fef38626",
   "metadata": {},
   "outputs": [
    {
     "data": {
      "text/plain": [
       "CHAPTER               2\n",
       "AC_REG_NUMBER    N249BA\n",
       "AC_MODEL           B747\n",
       "MONTH_CODE       202202\n",
       "CYCLES                1\n",
       "PIREP                 0\n",
       "Name: 1, dtype: object"
      ]
     },
     "execution_count": 11,
     "metadata": {},
     "output_type": "execute_result"
    }
   ],
   "source": [
    "df9.loc[1]"
   ]
  },
  {
   "cell_type": "code",
   "execution_count": 12,
   "id": "a2d00183",
   "metadata": {},
   "outputs": [
    {
     "data": {
      "text/plain": [
       "CHAPTER               2\n",
       "AC_REG_NUMBER    N404KZ\n",
       "AC_MODEL           B747\n",
       "MONTH_CODE       202203\n",
       "CYCLES               51\n",
       "PIREP                 0\n",
       "Name: 11, dtype: object"
      ]
     },
     "execution_count": 12,
     "metadata": {},
     "output_type": "execute_result"
    }
   ],
   "source": [
    "df9.loc[11]"
   ]
  },
  {
   "cell_type": "code",
   "execution_count": 13,
   "id": "31603a22",
   "metadata": {},
   "outputs": [
    {
     "data": {
      "text/plain": [
       "CHAPTER               2\n",
       "AC_REG_NUMBER    N263SG\n",
       "AC_MODEL           B747\n",
       "MONTH_CODE       202201\n",
       "CYCLES                5\n",
       "PIREP                 0\n",
       "Name: 3, dtype: object"
      ]
     },
     "execution_count": 13,
     "metadata": {},
     "output_type": "execute_result"
    }
   ],
   "source": [
    "df9.loc[3]"
   ]
  },
  {
   "cell_type": "code",
   "execution_count": 15,
   "id": "416fade8",
   "metadata": {},
   "outputs": [
    {
     "data": {
      "text/html": [
       "<div>\n",
       "<style scoped>\n",
       "    .dataframe tbody tr th:only-of-type {\n",
       "        vertical-align: middle;\n",
       "    }\n",
       "\n",
       "    .dataframe tbody tr th {\n",
       "        vertical-align: top;\n",
       "    }\n",
       "\n",
       "    .dataframe thead th {\n",
       "        text-align: right;\n",
       "    }\n",
       "</style>\n",
       "<table border=\"1\" class=\"dataframe\">\n",
       "  <thead>\n",
       "    <tr style=\"text-align: right;\">\n",
       "      <th></th>\n",
       "      <th>CHAPTER</th>\n",
       "      <th>AC_REG_NUMBER</th>\n",
       "      <th>AC_MODEL</th>\n",
       "      <th>MONTH_CODE</th>\n",
       "      <th>CYCLES</th>\n",
       "      <th>PIREP</th>\n",
       "    </tr>\n",
       "  </thead>\n",
       "  <tbody>\n",
       "    <tr>\n",
       "      <th>1</th>\n",
       "      <td>2</td>\n",
       "      <td>N249BA</td>\n",
       "      <td>B747</td>\n",
       "      <td>202202</td>\n",
       "      <td>1</td>\n",
       "      <td>0</td>\n",
       "    </tr>\n",
       "    <tr>\n",
       "      <th>3</th>\n",
       "      <td>2</td>\n",
       "      <td>N263SG</td>\n",
       "      <td>B747</td>\n",
       "      <td>202201</td>\n",
       "      <td>5</td>\n",
       "      <td>0</td>\n",
       "    </tr>\n",
       "  </tbody>\n",
       "</table>\n",
       "</div>"
      ],
      "text/plain": [
       "   CHAPTER AC_REG_NUMBER AC_MODEL  MONTH_CODE  CYCLES  PIREP\n",
       "1        2        N249BA     B747      202202       1      0\n",
       "3        2        N263SG     B747      202201       5      0"
      ]
     },
     "execution_count": 15,
     "metadata": {},
     "output_type": "execute_result"
    }
   ],
   "source": [
    "df9.loc[[1,3]]"
   ]
  },
  {
   "cell_type": "code",
   "execution_count": 16,
   "id": "e74f9263",
   "metadata": {},
   "outputs": [
    {
     "data": {
      "text/html": [
       "<div>\n",
       "<style scoped>\n",
       "    .dataframe tbody tr th:only-of-type {\n",
       "        vertical-align: middle;\n",
       "    }\n",
       "\n",
       "    .dataframe tbody tr th {\n",
       "        vertical-align: top;\n",
       "    }\n",
       "\n",
       "    .dataframe thead th {\n",
       "        text-align: right;\n",
       "    }\n",
       "</style>\n",
       "<table border=\"1\" class=\"dataframe\">\n",
       "  <thead>\n",
       "    <tr style=\"text-align: right;\">\n",
       "      <th></th>\n",
       "      <th>CHAPTER</th>\n",
       "      <th>AC_REG_NUMBER</th>\n",
       "      <th>AC_MODEL</th>\n",
       "      <th>MONTH_CODE</th>\n",
       "      <th>CYCLES</th>\n",
       "      <th>PIREP</th>\n",
       "    </tr>\n",
       "  </thead>\n",
       "  <tbody>\n",
       "    <tr>\n",
       "      <th>2</th>\n",
       "      <td>2</td>\n",
       "      <td>N249BA</td>\n",
       "      <td>B747</td>\n",
       "      <td>202203</td>\n",
       "      <td>10</td>\n",
       "      <td>0</td>\n",
       "    </tr>\n",
       "    <tr>\n",
       "      <th>4</th>\n",
       "      <td>2</td>\n",
       "      <td>N263SG</td>\n",
       "      <td>B747</td>\n",
       "      <td>202202</td>\n",
       "      <td>2</td>\n",
       "      <td>0</td>\n",
       "    </tr>\n",
       "  </tbody>\n",
       "</table>\n",
       "</div>"
      ],
      "text/plain": [
       "   CHAPTER AC_REG_NUMBER AC_MODEL  MONTH_CODE  CYCLES  PIREP\n",
       "2        2        N249BA     B747      202203      10      0\n",
       "4        2        N263SG     B747      202202       2      0"
      ]
     },
     "execution_count": 16,
     "metadata": {},
     "output_type": "execute_result"
    }
   ],
   "source": [
    "df9.loc[[2,4]]"
   ]
  },
  {
   "cell_type": "code",
   "execution_count": 17,
   "id": "29477048",
   "metadata": {},
   "outputs": [
    {
     "data": {
      "text/plain": [
       "'N263SG'"
      ]
     },
     "execution_count": 17,
     "metadata": {},
     "output_type": "execute_result"
    }
   ],
   "source": [
    "df9.loc[4,\"AC_REG_NUMBER\"]"
   ]
  },
  {
   "cell_type": "code",
   "execution_count": 18,
   "id": "6e713c68",
   "metadata": {},
   "outputs": [
    {
     "data": {
      "text/plain": [
       "0    N249BA\n",
       "1    N249BA\n",
       "2    N249BA\n",
       "3    N263SG\n",
       "4    N263SG\n",
       "Name: AC_REG_NUMBER, dtype: object"
      ]
     },
     "execution_count": 18,
     "metadata": {},
     "output_type": "execute_result"
    }
   ],
   "source": [
    "df9.loc[0:4,\"AC_REG_NUMBER\"]"
   ]
  },
  {
   "cell_type": "code",
   "execution_count": 21,
   "id": "3fb20565",
   "metadata": {},
   "outputs": [
    {
     "data": {
      "text/plain": [
       "0     1\n",
       "1     1\n",
       "2    10\n",
       "3     5\n",
       "4     2\n",
       "Name: CYCLES, dtype: int64"
      ]
     },
     "execution_count": 21,
     "metadata": {},
     "output_type": "execute_result"
    }
   ],
   "source": [
    "df9.loc[0:4,\"CYCLES\"]"
   ]
  },
  {
   "cell_type": "code",
   "execution_count": 22,
   "id": "81069039",
   "metadata": {},
   "outputs": [
    {
     "data": {
      "text/plain": [
       "CHAPTER               2\n",
       "AC_REG_NUMBER    N249BA\n",
       "AC_MODEL           B747\n",
       "MONTH_CODE       202201\n",
       "CYCLES                1\n",
       "PIREP                 0\n",
       "Name: 0, dtype: object"
      ]
     },
     "execution_count": 22,
     "metadata": {},
     "output_type": "execute_result"
    }
   ],
   "source": [
    "df9.iloc[0]"
   ]
  },
  {
   "cell_type": "code",
   "execution_count": 23,
   "id": "4685eb46",
   "metadata": {},
   "outputs": [
    {
     "data": {
      "text/html": [
       "<div>\n",
       "<style scoped>\n",
       "    .dataframe tbody tr th:only-of-type {\n",
       "        vertical-align: middle;\n",
       "    }\n",
       "\n",
       "    .dataframe tbody tr th {\n",
       "        vertical-align: top;\n",
       "    }\n",
       "\n",
       "    .dataframe thead th {\n",
       "        text-align: right;\n",
       "    }\n",
       "</style>\n",
       "<table border=\"1\" class=\"dataframe\">\n",
       "  <thead>\n",
       "    <tr style=\"text-align: right;\">\n",
       "      <th></th>\n",
       "      <th>CHAPTER</th>\n",
       "      <th>AC_REG_NUMBER</th>\n",
       "      <th>AC_MODEL</th>\n",
       "      <th>MONTH_CODE</th>\n",
       "      <th>CYCLES</th>\n",
       "      <th>PIREP</th>\n",
       "    </tr>\n",
       "  </thead>\n",
       "  <tbody>\n",
       "    <tr>\n",
       "      <th>0</th>\n",
       "      <td>2</td>\n",
       "      <td>N249BA</td>\n",
       "      <td>B747</td>\n",
       "      <td>202201</td>\n",
       "      <td>1</td>\n",
       "      <td>0</td>\n",
       "    </tr>\n",
       "  </tbody>\n",
       "</table>\n",
       "</div>"
      ],
      "text/plain": [
       "   CHAPTER AC_REG_NUMBER AC_MODEL  MONTH_CODE  CYCLES  PIREP\n",
       "0        2        N249BA     B747      202201       1      0"
      ]
     },
     "execution_count": 23,
     "metadata": {},
     "output_type": "execute_result"
    }
   ],
   "source": [
    "df9.iloc[[0]]"
   ]
  },
  {
   "cell_type": "code",
   "execution_count": 25,
   "id": "52a5a0ed",
   "metadata": {},
   "outputs": [
    {
     "data": {
      "text/plain": [
       "0        2\n",
       "1        2\n",
       "2        2\n",
       "3        2\n",
       "4        2\n",
       "        ..\n",
       "5656    80\n",
       "5657    80\n",
       "5658    80\n",
       "5659    80\n",
       "5660    80\n",
       "Name: CHAPTER, Length: 5661, dtype: int64"
      ]
     },
     "execution_count": 25,
     "metadata": {},
     "output_type": "execute_result"
    }
   ],
   "source": [
    "df9.iloc[:,0]"
   ]
  },
  {
   "cell_type": "code",
   "execution_count": 29,
   "id": "47ca9bfd",
   "metadata": {},
   "outputs": [
    {
     "data": {
      "text/html": [
       "<div>\n",
       "<style scoped>\n",
       "    .dataframe tbody tr th:only-of-type {\n",
       "        vertical-align: middle;\n",
       "    }\n",
       "\n",
       "    .dataframe tbody tr th {\n",
       "        vertical-align: top;\n",
       "    }\n",
       "\n",
       "    .dataframe thead th {\n",
       "        text-align: right;\n",
       "    }\n",
       "</style>\n",
       "<table border=\"1\" class=\"dataframe\">\n",
       "  <thead>\n",
       "    <tr style=\"text-align: right;\">\n",
       "      <th></th>\n",
       "      <th>CHAPTER</th>\n",
       "      <th>AC_REG_NUMBER</th>\n",
       "      <th>AC_MODEL</th>\n",
       "      <th>MONTH_CODE</th>\n",
       "      <th>CYCLES</th>\n",
       "      <th>PIREP</th>\n",
       "    </tr>\n",
       "  </thead>\n",
       "  <tbody>\n",
       "    <tr>\n",
       "      <th>0</th>\n",
       "      <td>2</td>\n",
       "      <td>N249BA</td>\n",
       "      <td>B747</td>\n",
       "      <td>202201</td>\n",
       "      <td>1</td>\n",
       "      <td>0</td>\n",
       "    </tr>\n",
       "    <tr>\n",
       "      <th>20</th>\n",
       "      <td>2</td>\n",
       "      <td>N408MC</td>\n",
       "      <td>B747</td>\n",
       "      <td>202202</td>\n",
       "      <td>23</td>\n",
       "      <td>0</td>\n",
       "    </tr>\n",
       "  </tbody>\n",
       "</table>\n",
       "</div>"
      ],
      "text/plain": [
       "    CHAPTER AC_REG_NUMBER AC_MODEL  MONTH_CODE  CYCLES  PIREP\n",
       "0         2        N249BA     B747      202201       1      0\n",
       "20        2        N408MC     B747      202202      23      0"
      ]
     },
     "execution_count": 29,
     "metadata": {},
     "output_type": "execute_result"
    }
   ],
   "source": [
    "df9.iloc[[0,20]]"
   ]
  },
  {
   "cell_type": "code",
   "execution_count": 31,
   "id": "81ad4dcf",
   "metadata": {},
   "outputs": [
    {
     "data": {
      "text/html": [
       "<div>\n",
       "<style scoped>\n",
       "    .dataframe tbody tr th:only-of-type {\n",
       "        vertical-align: middle;\n",
       "    }\n",
       "\n",
       "    .dataframe tbody tr th {\n",
       "        vertical-align: top;\n",
       "    }\n",
       "\n",
       "    .dataframe thead th {\n",
       "        text-align: right;\n",
       "    }\n",
       "</style>\n",
       "<table border=\"1\" class=\"dataframe\">\n",
       "  <thead>\n",
       "    <tr style=\"text-align: right;\">\n",
       "      <th></th>\n",
       "      <th>CHAPTER</th>\n",
       "      <th>AC_REG_NUMBER</th>\n",
       "      <th>AC_MODEL</th>\n",
       "      <th>MONTH_CODE</th>\n",
       "      <th>CYCLES</th>\n",
       "      <th>PIREP</th>\n",
       "    </tr>\n",
       "  </thead>\n",
       "  <tbody>\n",
       "    <tr>\n",
       "      <th>0</th>\n",
       "      <td>2</td>\n",
       "      <td>N249BA</td>\n",
       "      <td>B747</td>\n",
       "      <td>202201</td>\n",
       "      <td>1</td>\n",
       "      <td>0</td>\n",
       "    </tr>\n",
       "    <tr>\n",
       "      <th>1</th>\n",
       "      <td>2</td>\n",
       "      <td>N249BA</td>\n",
       "      <td>B747</td>\n",
       "      <td>202202</td>\n",
       "      <td>1</td>\n",
       "      <td>0</td>\n",
       "    </tr>\n",
       "    <tr>\n",
       "      <th>2</th>\n",
       "      <td>2</td>\n",
       "      <td>N249BA</td>\n",
       "      <td>B747</td>\n",
       "      <td>202203</td>\n",
       "      <td>10</td>\n",
       "      <td>0</td>\n",
       "    </tr>\n",
       "    <tr>\n",
       "      <th>3</th>\n",
       "      <td>2</td>\n",
       "      <td>N263SG</td>\n",
       "      <td>B747</td>\n",
       "      <td>202201</td>\n",
       "      <td>5</td>\n",
       "      <td>0</td>\n",
       "    </tr>\n",
       "    <tr>\n",
       "      <th>4</th>\n",
       "      <td>2</td>\n",
       "      <td>N263SG</td>\n",
       "      <td>B747</td>\n",
       "      <td>202202</td>\n",
       "      <td>2</td>\n",
       "      <td>0</td>\n",
       "    </tr>\n",
       "    <tr>\n",
       "      <th>...</th>\n",
       "      <td>...</td>\n",
       "      <td>...</td>\n",
       "      <td>...</td>\n",
       "      <td>...</td>\n",
       "      <td>...</td>\n",
       "      <td>...</td>\n",
       "    </tr>\n",
       "    <tr>\n",
       "      <th>5656</th>\n",
       "      <td>80</td>\n",
       "      <td>N858GT</td>\n",
       "      <td>B747</td>\n",
       "      <td>202202</td>\n",
       "      <td>58</td>\n",
       "      <td>0</td>\n",
       "    </tr>\n",
       "    <tr>\n",
       "      <th>5657</th>\n",
       "      <td>80</td>\n",
       "      <td>N858GT</td>\n",
       "      <td>B747</td>\n",
       "      <td>202203</td>\n",
       "      <td>67</td>\n",
       "      <td>0</td>\n",
       "    </tr>\n",
       "    <tr>\n",
       "      <th>5658</th>\n",
       "      <td>80</td>\n",
       "      <td>N859GT</td>\n",
       "      <td>B747</td>\n",
       "      <td>202201</td>\n",
       "      <td>55</td>\n",
       "      <td>0</td>\n",
       "    </tr>\n",
       "    <tr>\n",
       "      <th>5659</th>\n",
       "      <td>80</td>\n",
       "      <td>N859GT</td>\n",
       "      <td>B747</td>\n",
       "      <td>202202</td>\n",
       "      <td>51</td>\n",
       "      <td>0</td>\n",
       "    </tr>\n",
       "    <tr>\n",
       "      <th>5660</th>\n",
       "      <td>80</td>\n",
       "      <td>N859GT</td>\n",
       "      <td>B747</td>\n",
       "      <td>202203</td>\n",
       "      <td>68</td>\n",
       "      <td>0</td>\n",
       "    </tr>\n",
       "  </tbody>\n",
       "</table>\n",
       "<p>5661 rows × 6 columns</p>\n",
       "</div>"
      ],
      "text/plain": [
       "      CHAPTER AC_REG_NUMBER AC_MODEL  MONTH_CODE  CYCLES  PIREP\n",
       "0           2        N249BA     B747      202201       1      0\n",
       "1           2        N249BA     B747      202202       1      0\n",
       "2           2        N249BA     B747      202203      10      0\n",
       "3           2        N263SG     B747      202201       5      0\n",
       "4           2        N263SG     B747      202202       2      0\n",
       "...       ...           ...      ...         ...     ...    ...\n",
       "5656       80        N858GT     B747      202202      58      0\n",
       "5657       80        N858GT     B747      202203      67      0\n",
       "5658       80        N859GT     B747      202201      55      0\n",
       "5659       80        N859GT     B747      202202      51      0\n",
       "5660       80        N859GT     B747      202203      68      0\n",
       "\n",
       "[5661 rows x 6 columns]"
      ]
     },
     "execution_count": 31,
     "metadata": {},
     "output_type": "execute_result"
    }
   ],
   "source": [
    "df9"
   ]
  },
  {
   "cell_type": "code",
   "execution_count": null,
   "id": "ca8de913",
   "metadata": {},
   "outputs": [],
   "source": []
  }
 ],
 "metadata": {
  "kernelspec": {
   "display_name": "Python 3 (ipykernel)",
   "language": "python",
   "name": "python3"
  },
  "language_info": {
   "codemirror_mode": {
    "name": "ipython",
    "version": 3
   },
   "file_extension": ".py",
   "mimetype": "text/x-python",
   "name": "python",
   "nbconvert_exporter": "python",
   "pygments_lexer": "ipython3",
   "version": "3.9.13"
  }
 },
 "nbformat": 4,
 "nbformat_minor": 5
}
