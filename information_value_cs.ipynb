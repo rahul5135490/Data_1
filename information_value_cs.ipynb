{
 "cells": [
  {
   "cell_type": "code",
   "execution_count": 1,
   "id": "f5dd57ad",
   "metadata": {
    "scrolled": true
   },
   "outputs": [
    {
     "data": {
      "text/plain": [
       "Index(['Row Labels', 'Target', '202110_int', '202111_int', '202112_int',\n",
       "       'Q1_int', 'Q2_int', 'Q3_int', 'Q4_int', 'half_yearly_1_int',\n",
       "       ...\n",
       "       '202110_Repeat', '202111_Repeat', '202112_Repeat', 'Q1_Repeat',\n",
       "       'Q2_Repeat', 'Q3_Repeat', 'Q4_Repeat', 'half_yearly_1_Repeat',\n",
       "       'half_yearly_2_Repeat', 'Yearly_Repeat'],\n",
       "      dtype='object', length=102)"
      ]
     },
     "execution_count": 1,
     "metadata": {},
     "output_type": "execute_result"
    }
   ],
   "source": [
    "from sklearn import tree\n",
    "import numpy as np\n",
    "import pandas as pd\n",
    "df=pd.read_excel(r\"C:\\Users\\rcm1\\Documents\\PATTERN_ANALYSIS\\nodes_out_extended_tree.xlsx\")\n",
    "df=df.iloc[:,1:103]\n",
    "listc=df.columns\n",
    "listc"
   ]
  },
  {
   "cell_type": "code",
   "execution_count": 2,
   "id": "56cceb90",
   "metadata": {},
   "outputs": [
    {
     "name": "stderr",
     "output_type": "stream",
     "text": [
      "C:\\Users\\rcm1\\AppData\\Local\\Continuum\\anaconda3\\lib\\site-packages\\pandas\\core\\series.py:853: RuntimeWarning: divide by zero encountered in log\n",
      "  result = getattr(ufunc, method)(*inputs, **kwargs)\n"
     ]
    },
    {
     "data": {
      "text/html": [
       "<div>\n",
       "<style scoped>\n",
       "    .dataframe tbody tr th:only-of-type {\n",
       "        vertical-align: middle;\n",
       "    }\n",
       "\n",
       "    .dataframe tbody tr th {\n",
       "        vertical-align: top;\n",
       "    }\n",
       "\n",
       "    .dataframe thead th {\n",
       "        text-align: right;\n",
       "    }\n",
       "</style>\n",
       "<table border=\"1\" class=\"dataframe\">\n",
       "  <thead>\n",
       "    <tr style=\"text-align: right;\">\n",
       "      <th></th>\n",
       "      <th>name</th>\n",
       "      <th>IV</th>\n",
       "    </tr>\n",
       "  </thead>\n",
       "  <tbody>\n",
       "    <tr>\n",
       "      <td>0</td>\n",
       "      <td>202110_int</td>\n",
       "      <td>0.359145</td>\n",
       "    </tr>\n",
       "    <tr>\n",
       "      <td>1</td>\n",
       "      <td>202111_int</td>\n",
       "      <td>0.993008</td>\n",
       "    </tr>\n",
       "    <tr>\n",
       "      <td>2</td>\n",
       "      <td>202112_int</td>\n",
       "      <td>1.260573</td>\n",
       "    </tr>\n",
       "    <tr>\n",
       "      <td>3</td>\n",
       "      <td>Q1_int</td>\n",
       "      <td>0.343425</td>\n",
       "    </tr>\n",
       "    <tr>\n",
       "      <td>4</td>\n",
       "      <td>Q2_int</td>\n",
       "      <td>0.716790</td>\n",
       "    </tr>\n",
       "    <tr>\n",
       "      <td>...</td>\n",
       "      <td>...</td>\n",
       "      <td>...</td>\n",
       "    </tr>\n",
       "    <tr>\n",
       "      <td>94</td>\n",
       "      <td>Q2_Repeat</td>\n",
       "      <td>0.986588</td>\n",
       "    </tr>\n",
       "    <tr>\n",
       "      <td>95</td>\n",
       "      <td>Q3_Repeat</td>\n",
       "      <td>2.023373</td>\n",
       "    </tr>\n",
       "    <tr>\n",
       "      <td>96</td>\n",
       "      <td>Q4_Repeat</td>\n",
       "      <td>1.661484</td>\n",
       "    </tr>\n",
       "    <tr>\n",
       "      <td>97</td>\n",
       "      <td>half_yearly_1_Repeat</td>\n",
       "      <td>1.534607</td>\n",
       "    </tr>\n",
       "    <tr>\n",
       "      <td>98</td>\n",
       "      <td>half_yearly_2_Repeat</td>\n",
       "      <td>2.326909</td>\n",
       "    </tr>\n",
       "  </tbody>\n",
       "</table>\n",
       "<p>99 rows × 2 columns</p>\n",
       "</div>"
      ],
      "text/plain": [
       "                    name        IV\n",
       "0             202110_int  0.359145\n",
       "1             202111_int  0.993008\n",
       "2             202112_int  1.260573\n",
       "3                 Q1_int  0.343425\n",
       "4                 Q2_int  0.716790\n",
       "..                   ...       ...\n",
       "94             Q2_Repeat  0.986588\n",
       "95             Q3_Repeat  2.023373\n",
       "96             Q4_Repeat  1.661484\n",
       "97  half_yearly_1_Repeat  1.534607\n",
       "98  half_yearly_2_Repeat  2.326909\n",
       "\n",
       "[99 rows x 2 columns]"
      ]
     },
     "execution_count": 2,
     "metadata": {},
     "output_type": "execute_result"
    }
   ],
   "source": [
    "Y=df.iloc[:,1:2]\n",
    "totalIVlist=[]\n",
    "colname=[]\n",
    "for l in range(2,101):\n",
    "    X=df.iloc[:,l:l+1]\n",
    "    df_=pd.merge(Y,X,left_index=True,right_index=True)\n",
    "    list1=[]\n",
    "    count0list=[]\n",
    "    count1list=[]\n",
    "    for i,j in df_.iterrows():\n",
    "        count0=0\n",
    "        count1=0\n",
    "        a=j[listc[l]]\n",
    "        if j[listc[l]] in list1:\n",
    "            pass\n",
    "        else:\n",
    "            list1.append(a)\n",
    "            for b,z in df_.iterrows():\n",
    "                if a==z[listc[l]]:\n",
    "                    if z['Target']==0:\n",
    "                        count0=count0+1\n",
    "                    else:\n",
    "                        count1=count1+1\n",
    "            count0list.append(count0)\n",
    "            count1list.append(count1)\n",
    "    pivot=pd.DataFrame({'nodes':list1,'0':count0list,'1':count1list})\n",
    "    pivot=pivot.sort_values(by=['nodes'])\n",
    "    pivot['Grand Total']=pivot['0']+pivot['1']\n",
    "    pivot['percent_G']=pivot['0']/pivot['Grand Total']\n",
    "    pivot['% of Good']=pivot['0']/86\n",
    "    pivot['percent_B']=pivot['1']/pivot['Grand Total']\n",
    "    pivot['% of Bad']=pivot['1']/21\n",
    "    pivot['%G-%B']=pivot['% of Bad']-pivot['% of Good']\n",
    "    pivot['WOE']=np.log(pivot['% of Bad']/pivot['% of Good'])\n",
    "    pivot['IV']=pivot['WOE']*pivot['%G-%B']\n",
    "    pivot.replace([np.inf, -np.inf], np.nan, inplace=True)\n",
    "    totalIV=pivot['IV'].sum()\n",
    "    totalIVlist.append(totalIV)\n",
    "    colname.append(listc[l])\n",
    "table=pd.DataFrame({'name':colname,'IV':totalIVlist})\n",
    "table"
   ]
  },
  {
   "cell_type": "markdown",
   "id": "2619459c",
   "metadata": {},
   "source": [
    "strong_feat = table.where(table['IV'] >0.35)\n",
    "\n",
    "strong_feat = strong_feat.dropna()"
   ]
  },
  {
   "cell_type": "code",
   "execution_count": 4,
   "id": "2461f52a",
   "metadata": {},
   "outputs": [],
   "source": [
    "table.to_excel('IV_Value_Tab.xlsx')"
   ]
  },
  {
   "cell_type": "code",
   "execution_count": null,
   "id": "66a49b89",
   "metadata": {},
   "outputs": [],
   "source": []
  },
  {
   "cell_type": "code",
   "execution_count": null,
   "id": "f208d1cb",
   "metadata": {},
   "outputs": [],
   "source": []
  },
  {
   "cell_type": "code",
   "execution_count": null,
   "id": "232c6ff8",
   "metadata": {},
   "outputs": [],
   "source": []
  },
  {
   "cell_type": "code",
   "execution_count": null,
   "id": "19c468a9",
   "metadata": {},
   "outputs": [],
   "source": []
  },
  {
   "cell_type": "markdown",
   "id": "8b2bf4dd",
   "metadata": {},
   "source": [
    "# EXTRA LOOP\n",
    "list1=[]\n",
    "count0list=[]\n",
    "count1list=[]\n",
    "for i,j in df_.iterrows():\n",
    "    count0=0\n",
    "    count1=0\n",
    "    a=j['202110_int']\n",
    "    if j['202110_int'] in list1:\n",
    "        pass\n",
    "    else:\n",
    "        list1.append(a)\n",
    "        for b,z in df_.iterrows():\n",
    "            if a==z['202110_int']:\n",
    "                if z['Target']==0:\n",
    "                    count0=count0+1\n",
    "                else:\n",
    "                    count1=count1+1\n",
    "        count0list.append(count0)\n",
    "        count1list.append(count1)\n",
    "pivot=pd.DataFrame({'nodes':list1,'0':count0list,'1':count1list})\n",
    "pivot=pivot.sort_values(by=['nodes'])"
   ]
  },
  {
   "cell_type": "code",
   "execution_count": 6,
   "id": "23a7a700",
   "metadata": {},
   "outputs": [
    {
     "name": "stderr",
     "output_type": "stream",
     "text": [
      "C:\\Users\\rcmlp.22\\Anaconda3\\lib\\site-packages\\pandas\\core\\arraylike.py:364: RuntimeWarning: divide by zero encountered in log\n",
      "  result = getattr(ufunc, method)(*inputs, **kwargs)\n"
     ]
    },
    {
     "data": {
      "text/plain": [
       "0.3591454560141978"
      ]
     },
     "execution_count": 6,
     "metadata": {},
     "output_type": "execute_result"
    }
   ],
   "source": [
    "pivot['Grand Total']=pivot['0']+pivot['1']\n",
    "pivot['percent_G']=pivot['0']/pivot['Grand Total']\n",
    "pivot['% of Good']=pivot['0']/86\n",
    "pivot['percent_B']=pivot['1']/pivot['Grand Total']\n",
    "pivot['% of Bad']=pivot['1']/21\n",
    "pivot['%G-%B']=pivot['% of Bad']-pivot['% of Good']\n",
    "pivot['WOE']=np.log(pivot['% of Bad']/pivot['% of Good'])\n",
    "pivot['IV']=pivot['WOE']*pivot['%G-%B']\n",
    "pivot.replace([np.inf, -np.inf], np.nan, inplace=True)\n",
    "totalIV=pivot['IV'].sum()\n",
    "totalIV"
   ]
  },
  {
   "cell_type": "code",
   "execution_count": null,
   "id": "86c98fed",
   "metadata": {},
   "outputs": [],
   "source": []
  }
 ],
 "metadata": {
  "kernelspec": {
   "display_name": "Python 3 (ipykernel)",
   "language": "python",
   "name": "python3"
  },
  "language_info": {
   "codemirror_mode": {
    "name": "ipython",
    "version": 3
   },
   "file_extension": ".py",
   "mimetype": "text/x-python",
   "name": "python",
   "nbconvert_exporter": "python",
   "pygments_lexer": "ipython3",
   "version": "3.9.13"
  }
 },
 "nbformat": 4,
 "nbformat_minor": 5
}
