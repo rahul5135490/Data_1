{
 "cells": [
  {
   "cell_type": "code",
   "execution_count": 2,
   "id": "f67c5b7b",
   "metadata": {},
   "outputs": [
    {
     "name": "stdout",
     "output_type": "stream",
     "text": [
      "Do You want to voteyes\n",
      "Enter your age33\n",
      "You are eligible for the vote\n"
     ]
    }
   ],
   "source": [
    "x=input(\"Do You want to vote\")\n",
    "if x==\"yes\":\n",
    "    age=input(\"Enter your age\")\n",
    "    age=int(age)\n",
    "    if(age>=18):\n",
    "        print(\"You are eligible for the vote\")\n",
    "    else:\n",
    "        print(\"You are not eligible for the vote\")\n"
   ]
  },
  {
   "cell_type": "code",
   "execution_count": 2,
   "id": "1b48e7ab",
   "metadata": {},
   "outputs": [
    {
     "name": "stdout",
     "output_type": "stream",
     "text": [
      "Do You want to vote9\n"
     ]
    }
   ],
   "source": [
    "x=input(\"Do You want to vote\")\n",
    "if x==\"yes\":\n",
    "    age=input(\"Enter your age\")\n",
    "    age=int(age)\n",
    "    if(age>=18):\n",
    "        print(\"You are eligible for the vote\")\n",
    "    else:\n",
    "        print(\"You are not eligible for the vote\")\n"
   ]
  },
  {
   "cell_type": "code",
   "execution_count": 3,
   "id": "8b95f1ca",
   "metadata": {},
   "outputs": [
    {
     "name": "stdout",
     "output_type": "stream",
     "text": [
      "C is greater\n"
     ]
    }
   ],
   "source": [
    "x=10\n",
    "if(x>=10):\n",
    "    a,b,c=10,20,30;\n",
    "    \n",
    "    if(a>b and a>c):\n",
    "        print(\"A is greater\")\n",
    "    elif(b>a and b>c):\n",
    "        print(\"B is greater\")\n",
    "    else:\n",
    "        print(\"C is greater\")"
   ]
  },
  {
   "cell_type": "code",
   "execution_count": null,
   "id": "9a3b617b",
   "metadata": {},
   "outputs": [],
   "source": []
  }
 ],
 "metadata": {
  "kernelspec": {
   "display_name": "Python 3 (ipykernel)",
   "language": "python",
   "name": "python3"
  },
  "language_info": {
   "codemirror_mode": {
    "name": "ipython",
    "version": 3
   },
   "file_extension": ".py",
   "mimetype": "text/x-python",
   "name": "python",
   "nbconvert_exporter": "python",
   "pygments_lexer": "ipython3",
   "version": "3.9.13"
  }
 },
 "nbformat": 4,
 "nbformat_minor": 5
}
