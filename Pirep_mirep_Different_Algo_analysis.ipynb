{
 "cells": [
  {
   "cell_type": "code",
   "execution_count": 77,
   "id": "95802e4f",
   "metadata": {},
   "outputs": [
    {
     "data": {
      "text/html": [
       "<div>\n",
       "<style scoped>\n",
       "    .dataframe tbody tr th:only-of-type {\n",
       "        vertical-align: middle;\n",
       "    }\n",
       "\n",
       "    .dataframe tbody tr th {\n",
       "        vertical-align: top;\n",
       "    }\n",
       "\n",
       "    .dataframe thead th {\n",
       "        text-align: right;\n",
       "    }\n",
       "</style>\n",
       "<table border=\"1\" class=\"dataframe\">\n",
       "  <thead>\n",
       "    <tr style=\"text-align: right;\">\n",
       "      <th></th>\n",
       "      <th>Row Labels</th>\n",
       "      <th>Target</th>\n",
       "      <th>202110_int</th>\n",
       "      <th>202111_int</th>\n",
       "      <th>202112_int</th>\n",
       "      <th>Q1_int</th>\n",
       "      <th>Q2_int</th>\n",
       "      <th>Q3_int</th>\n",
       "      <th>Q4_int</th>\n",
       "      <th>half_yearly_1_int</th>\n",
       "      <th>...</th>\n",
       "      <th>202110_Repeat</th>\n",
       "      <th>202111_Repeat</th>\n",
       "      <th>202112_Repeat</th>\n",
       "      <th>Q1_Repeat</th>\n",
       "      <th>Q2_Repeat</th>\n",
       "      <th>Q3_Repeat</th>\n",
       "      <th>Q4_Repeat</th>\n",
       "      <th>half_yearly_1_Repeat</th>\n",
       "      <th>half_yearly_2_Repeat</th>\n",
       "      <th>Yearly_Repeat</th>\n",
       "    </tr>\n",
       "  </thead>\n",
       "  <tbody>\n",
       "    <tr>\n",
       "      <td>0</td>\n",
       "      <td>N1013A</td>\n",
       "      <td>0</td>\n",
       "      <td>7</td>\n",
       "      <td>12</td>\n",
       "      <td>1</td>\n",
       "      <td>13</td>\n",
       "      <td>15</td>\n",
       "      <td>15</td>\n",
       "      <td>13</td>\n",
       "      <td>9</td>\n",
       "      <td>...</td>\n",
       "      <td>5</td>\n",
       "      <td>7</td>\n",
       "      <td>0</td>\n",
       "      <td>5</td>\n",
       "      <td>17</td>\n",
       "      <td>1</td>\n",
       "      <td>8</td>\n",
       "      <td>18</td>\n",
       "      <td>1</td>\n",
       "      <td>1</td>\n",
       "    </tr>\n",
       "    <tr>\n",
       "      <td>1</td>\n",
       "      <td>N1093A</td>\n",
       "      <td>0</td>\n",
       "      <td>9</td>\n",
       "      <td>11</td>\n",
       "      <td>1</td>\n",
       "      <td>13</td>\n",
       "      <td>17</td>\n",
       "      <td>18</td>\n",
       "      <td>13</td>\n",
       "      <td>9</td>\n",
       "      <td>...</td>\n",
       "      <td>3</td>\n",
       "      <td>1</td>\n",
       "      <td>0</td>\n",
       "      <td>18</td>\n",
       "      <td>3</td>\n",
       "      <td>1</td>\n",
       "      <td>5</td>\n",
       "      <td>5</td>\n",
       "      <td>1</td>\n",
       "      <td>1</td>\n",
       "    </tr>\n",
       "    <tr>\n",
       "      <td>2</td>\n",
       "      <td>N1181A</td>\n",
       "      <td>0</td>\n",
       "      <td>7</td>\n",
       "      <td>10</td>\n",
       "      <td>5</td>\n",
       "      <td>15</td>\n",
       "      <td>13</td>\n",
       "      <td>15</td>\n",
       "      <td>4</td>\n",
       "      <td>9</td>\n",
       "      <td>...</td>\n",
       "      <td>3</td>\n",
       "      <td>6</td>\n",
       "      <td>0</td>\n",
       "      <td>8</td>\n",
       "      <td>3</td>\n",
       "      <td>1</td>\n",
       "      <td>8</td>\n",
       "      <td>15</td>\n",
       "      <td>1</td>\n",
       "      <td>1</td>\n",
       "    </tr>\n",
       "    <tr>\n",
       "      <td>3</td>\n",
       "      <td>N1229A</td>\n",
       "      <td>0</td>\n",
       "      <td>10</td>\n",
       "      <td>7</td>\n",
       "      <td>1</td>\n",
       "      <td>13</td>\n",
       "      <td>14</td>\n",
       "      <td>18</td>\n",
       "      <td>9</td>\n",
       "      <td>9</td>\n",
       "      <td>...</td>\n",
       "      <td>6</td>\n",
       "      <td>17</td>\n",
       "      <td>0</td>\n",
       "      <td>8</td>\n",
       "      <td>3</td>\n",
       "      <td>1</td>\n",
       "      <td>16</td>\n",
       "      <td>15</td>\n",
       "      <td>1</td>\n",
       "      <td>1</td>\n",
       "    </tr>\n",
       "    <tr>\n",
       "      <td>4</td>\n",
       "      <td>N1321A</td>\n",
       "      <td>0</td>\n",
       "      <td>10</td>\n",
       "      <td>10</td>\n",
       "      <td>1</td>\n",
       "      <td>16</td>\n",
       "      <td>14</td>\n",
       "      <td>18</td>\n",
       "      <td>4</td>\n",
       "      <td>10</td>\n",
       "      <td>...</td>\n",
       "      <td>6</td>\n",
       "      <td>1</td>\n",
       "      <td>0</td>\n",
       "      <td>5</td>\n",
       "      <td>3</td>\n",
       "      <td>1</td>\n",
       "      <td>8</td>\n",
       "      <td>17</td>\n",
       "      <td>1</td>\n",
       "      <td>1</td>\n",
       "    </tr>\n",
       "  </tbody>\n",
       "</table>\n",
       "<p>5 rows × 102 columns</p>\n",
       "</div>"
      ],
      "text/plain": [
       "  Row Labels  Target  202110_int  202111_int  202112_int  Q1_int  Q2_int  \\\n",
       "0     N1013A       0           7          12           1      13      15   \n",
       "1     N1093A       0           9          11           1      13      17   \n",
       "2     N1181A       0           7          10           5      15      13   \n",
       "3     N1229A       0          10           7           1      13      14   \n",
       "4     N1321A       0          10          10           1      16      14   \n",
       "\n",
       "   Q3_int  Q4_int  half_yearly_1_int  ...  202110_Repeat  202111_Repeat  \\\n",
       "0      15      13                  9  ...              5              7   \n",
       "1      18      13                  9  ...              3              1   \n",
       "2      15       4                  9  ...              3              6   \n",
       "3      18       9                  9  ...              6             17   \n",
       "4      18       4                 10  ...              6              1   \n",
       "\n",
       "   202112_Repeat  Q1_Repeat  Q2_Repeat  Q3_Repeat  Q4_Repeat  \\\n",
       "0              0          5         17          1          8   \n",
       "1              0         18          3          1          5   \n",
       "2              0          8          3          1          8   \n",
       "3              0          8          3          1         16   \n",
       "4              0          5          3          1          8   \n",
       "\n",
       "   half_yearly_1_Repeat  half_yearly_2_Repeat  Yearly_Repeat  \n",
       "0                    18                     1              1  \n",
       "1                     5                     1              1  \n",
       "2                    15                     1              1  \n",
       "3                    15                     1              1  \n",
       "4                    17                     1              1  \n",
       "\n",
       "[5 rows x 102 columns]"
      ]
     },
     "execution_count": 77,
     "metadata": {},
     "output_type": "execute_result"
    }
   ],
   "source": [
    "from sklearn import tree\n",
    "import numpy as np\n",
    "import pandas as pd\n",
    "df=pd.read_excel(r\"C:\\Users\\rcm1\\Documents\\PATTERN_ANALYSIS\\nodes_out_extended_tree.xlsx\")\n",
    "IV=pd.read_excel(r\"C:\\Users\\rcm1\\Documents\\PATTERN_ANALYSIS\\infovalue_extended.xlsx\")\n",
    "df=df.iloc[:,1:103]\n",
    "listc=df.columns\n",
    "df.head()"
   ]
  },
  {
   "cell_type": "code",
   "execution_count": 78,
   "id": "ccd856bd",
   "metadata": {},
   "outputs": [
    {
     "data": {
      "text/plain": [
       "(99, 3)"
      ]
     },
     "execution_count": 78,
     "metadata": {},
     "output_type": "execute_result"
    }
   ],
   "source": [
    "IV.shape"
   ]
  },
  {
   "cell_type": "markdown",
   "id": "0ae464e2",
   "metadata": {},
   "source": [
    "# To manually set Variables according to IV values : \n",
    "Information Value\tPredictive Power\n",
    "\n",
    "< 0.02\tuseless for prediction\n",
    "\n",
    "0.02 to 0.1\tWeak predictor\n",
    "\n",
    "0.1 to 0.3\tMedium predictor\n",
    "\n",
    "0.3 to 0.5\tStrong predictor\n",
    "\n",
    " >0.5\tSuspicious or too good to be true"
   ]
  },
  {
   "cell_type": "code",
   "execution_count": 95,
   "id": "bf14ce81",
   "metadata": {},
   "outputs": [],
   "source": [
    "# Picking up Strong : \n",
    "new_value=[]\n",
    "for i,j in IV.iterrows():\n",
    "    if j['IV_value']<= 0.60 and j['IV_value'] > 0.30:\n",
    "        new_value.append(j)\n",
    "IV=pd.DataFrame(new_value)\n",
    "IV =IV.sort_values(ascending=False,by=['IV_value'])"
   ]
  },
  {
   "cell_type": "code",
   "execution_count": 80,
   "id": "d4bb6865",
   "metadata": {},
   "outputs": [],
   "source": [
    "# IV.to_excel('IV_VALUE_New.xlsx')"
   ]
  },
  {
   "cell_type": "code",
   "execution_count": 81,
   "id": "002829a9",
   "metadata": {},
   "outputs": [
    {
     "name": "stdout",
     "output_type": "stream",
     "text": [
      "39\n"
     ]
    },
    {
     "data": {
      "text/html": [
       "<div>\n",
       "<style scoped>\n",
       "    .dataframe tbody tr th:only-of-type {\n",
       "        vertical-align: middle;\n",
       "    }\n",
       "\n",
       "    .dataframe tbody tr th {\n",
       "        vertical-align: top;\n",
       "    }\n",
       "\n",
       "    .dataframe thead th {\n",
       "        text-align: right;\n",
       "    }\n",
       "</style>\n",
       "<table border=\"1\" class=\"dataframe\">\n",
       "  <thead>\n",
       "    <tr style=\"text-align: right;\">\n",
       "      <th></th>\n",
       "      <th>Unnamed: 0</th>\n",
       "      <th>name</th>\n",
       "      <th>IV_value</th>\n",
       "    </tr>\n",
       "  </thead>\n",
       "  <tbody>\n",
       "    <tr>\n",
       "      <td>42</td>\n",
       "      <td>78</td>\n",
       "      <td>half_yearly_2_DAMAGE</td>\n",
       "      <td>0.792119</td>\n",
       "    </tr>\n",
       "    <tr>\n",
       "      <td>43</td>\n",
       "      <td>26</td>\n",
       "      <td>Q4_MESSAGE</td>\n",
       "      <td>0.753521</td>\n",
       "    </tr>\n",
       "    <tr>\n",
       "      <td>44</td>\n",
       "      <td>69</td>\n",
       "      <td>Yearly_FAIL</td>\n",
       "      <td>0.752892</td>\n",
       "    </tr>\n",
       "    <tr>\n",
       "      <td>45</td>\n",
       "      <td>10</td>\n",
       "      <td>202110_Pirep</td>\n",
       "      <td>0.744887</td>\n",
       "    </tr>\n",
       "    <tr>\n",
       "      <td>46</td>\n",
       "      <td>27</td>\n",
       "      <td>half_yearly_1_MESSAGE</td>\n",
       "      <td>0.726809</td>\n",
       "    </tr>\n",
       "  </tbody>\n",
       "</table>\n",
       "</div>"
      ],
      "text/plain": [
       "    Unnamed: 0                   name  IV_value\n",
       "42          78   half_yearly_2_DAMAGE  0.792119\n",
       "43          26             Q4_MESSAGE  0.753521\n",
       "44          69            Yearly_FAIL  0.752892\n",
       "45          10           202110_Pirep  0.744887\n",
       "46          27  half_yearly_1_MESSAGE  0.726809"
      ]
     },
     "execution_count": 81,
     "metadata": {},
     "output_type": "execute_result"
    }
   ],
   "source": [
    "print(len(IV))\n",
    "IV.head()"
   ]
  },
  {
   "cell_type": "code",
   "execution_count": 82,
   "id": "9c998c3a",
   "metadata": {},
   "outputs": [],
   "source": [
    "import warnings\n",
    "warnings.filterwarnings('ignore')"
   ]
  },
  {
   "cell_type": "code",
   "execution_count": 83,
   "id": "cf1ab991",
   "metadata": {},
   "outputs": [],
   "source": [
    "# Assigning the WOE to the variables choosen on the basis of the IV values for further analysis\n",
    "# Will select those variables fitting in IV values range given in above code.\n",
    "Y=df.iloc[:,1:2]\n",
    "totalIVlist=[]\n",
    "colname=[]\n",
    "\n",
    "woe_table=pd.DataFrame()\n",
    "for l in range(2,101):\n",
    "    X=df.iloc[:,l:l+1]\n",
    "    df_=pd.merge(Y,X,left_index=True,right_index=True)\n",
    "    list1=[]\n",
    "    count0list=[]\n",
    "    count1list=[]\n",
    "    for i,j in df_.iterrows():\n",
    "        count0=0\n",
    "        count1=0\n",
    "        a=j[listc[l]]\n",
    "        if j[listc[l]] in list1:\n",
    "            pass\n",
    "        else:\n",
    "            list1.append(a)\n",
    "            for b,z in df_.iterrows():\n",
    "                if a==z[listc[l]]:\n",
    "                    if z['Target']==0:\n",
    "                        count0=count0+1\n",
    "                    else:\n",
    "                        count1=count1+1\n",
    "            count0list.append(count0)\n",
    "            count1list.append(count1)\n",
    "    pivot=pd.DataFrame({'nodes':list1,'0':count0list,'1':count1list})\n",
    "    pivot=pivot.sort_values(by=['nodes'])\n",
    "    pivot['Grand Total']=pivot['0']+pivot['1']\n",
    "    pivot['percent_G']=pivot['0']/pivot['Grand Total']\n",
    "    pivot['% of Good']=pivot['0']/86\n",
    "    pivot['percent_B']=pivot['1']/pivot['Grand Total']\n",
    "    pivot['% of Bad']=pivot['1']/21\n",
    "    pivot['%G-%B']=pivot['% of Bad']-pivot['% of Good']\n",
    "    pivot['WOE']=np.log(pivot['% of Bad']/pivot['% of Good'])\n",
    "    pivot['IV']=pivot['WOE']*pivot['%G-%B']\n",
    "    pivot.replace([np.inf, -np.inf], np.nan, inplace=True)\n",
    "    woe=[]\n",
    "    woe_list=[]\n",
    "    for index,f in IV.iterrows():\n",
    "        if f['name']==listc[l]:\n",
    "            for index_,g in df.iterrows():\n",
    "                for index__,h in pivot.iterrows():\n",
    "                    if h['nodes']==g[listc[l]]:\n",
    "                        woe.append(h['WOE'])\n",
    "            woe_table[listc[l]]=woe\n",
    "    totalIV=pivot['IV'].sum()\n",
    "    totalIVlist.append(totalIV)\n",
    "    colname.append(listc[l])\n",
    "woe_table.to_excel('D:\\woe_ooutput.xlsx')\n",
    "table=pd.DataFrame({'name':colname,'IV':totalIVlist})\n",
    "#table"
   ]
  },
  {
   "cell_type": "code",
   "execution_count": 84,
   "id": "6223954e",
   "metadata": {},
   "outputs": [],
   "source": [
    "#iv_sort=table.sort_values(ascending=False,by=['IV'])\n",
    "#iv_sort=iv_sort.iloc[0:30,:]\n",
    "#iv_sort.head()"
   ]
  },
  {
   "cell_type": "code",
   "execution_count": 85,
   "id": "0570c4a4",
   "metadata": {},
   "outputs": [],
   "source": [
    "# table.to_excel(r'D:\\infovalue_descisiontree.xlsx')"
   ]
  },
  {
   "cell_type": "code",
   "execution_count": 86,
   "id": "f166fbce",
   "metadata": {},
   "outputs": [],
   "source": [
    "import seaborn as sns\n",
    "import matplotlib.pyplot as plt\n",
    "import statsmodels.api as sm\n",
    "%matplotlib inline\n",
    "from math import sqrt\n",
    "from sklearn.metrics import mean_squared_error\n",
    "from matplotlib.pylab import rcParams\n",
    "from sklearn.model_selection import GridSearchCV,RandomizedSearchCV\n",
    "from sklearn.linear_model import LogisticRegression\n",
    "from sklearn.ensemble import AdaBoostClassifier"
   ]
  },
  {
   "cell_type": "code",
   "execution_count": 87,
   "id": "af24ccea",
   "metadata": {},
   "outputs": [],
   "source": [
    "Best_var = woe_table.copy()"
   ]
  },
  {
   "cell_type": "code",
   "execution_count": 88,
   "id": "8ab7868b",
   "metadata": {},
   "outputs": [],
   "source": [
    "Best_var = Best_var.fillna(0)\n"
   ]
  },
  {
   "cell_type": "markdown",
   "id": "6f1823de",
   "metadata": {},
   "source": [
    "# Splitting the variables "
   ]
  },
  {
   "cell_type": "code",
   "execution_count": 89,
   "id": "d2171756",
   "metadata": {},
   "outputs": [
    {
     "name": "stdout",
     "output_type": "stream",
     "text": [
      "(88, 39) (19, 39) (88, 1) (19, 1)\n"
     ]
    }
   ],
   "source": [
    "# X = Best_var\n",
    "from sklearn.model_selection import train_test_split\n",
    "X_train,X_test,y_train,y_test = train_test_split(Best_var,Y,test_size=0.17,random_state=10)\n",
    "print(X_train.shape, X_test.shape, y_train.shape, y_test.shape)"
   ]
  },
  {
   "cell_type": "markdown",
   "id": "5c3784fc",
   "metadata": {},
   "source": [
    "# 1) LOGISTIC REGRESSION "
   ]
  },
  {
   "cell_type": "markdown",
   "id": "db8d971a",
   "metadata": {},
   "source": [
    "# Fitting the model"
   ]
  },
  {
   "cell_type": "code",
   "execution_count": 90,
   "id": "3d3eff2e",
   "metadata": {},
   "outputs": [
    {
     "data": {
      "text/plain": [
       "LogisticRegression(C=1.0, class_weight='balanced', dual=False,\n",
       "                   fit_intercept=True, intercept_scaling=1, l1_ratio=None,\n",
       "                   max_iter=100, multi_class='warn', n_jobs=None, penalty='l2',\n",
       "                   random_state=None, solver='liblinear', tol=0.0001, verbose=0,\n",
       "                   warm_start=False)"
      ]
     },
     "execution_count": 90,
     "metadata": {},
     "output_type": "execute_result"
    }
   ],
   "source": [
    "# solver = 'liblinear', class_weight=\"balanced\"\n",
    "log_regression = LogisticRegression(solver='liblinear', class_weight= 'balanced')\n",
    "log_regression.fit(X_train,y_train) # Fitting the Training Set "
   ]
  },
  {
   "cell_type": "code",
   "execution_count": 91,
   "id": "18941ffb",
   "metadata": {},
   "outputs": [],
   "source": [
    "from sklearn.metrics import confusion_matrix,accuracy_score,classification_report,roc_auc_score,roc_curve\n",
    "plt.style.use('fivethirtyeight')\n",
    "from sklearn.metrics import precision_recall_curve, precision_recall_fscore_support\n",
    "from sklearn.model_selection import train_test_split"
   ]
  },
  {
   "cell_type": "code",
   "execution_count": 92,
   "id": "7756e019",
   "metadata": {},
   "outputs": [],
   "source": [
    "# train_pred = log_regression.predict(X_train)\n",
    "y_pred = log_regression.predict(X_test) # Predicted Varibale"
   ]
  },
  {
   "cell_type": "code",
   "execution_count": 93,
   "id": "978aabe3",
   "metadata": {},
   "outputs": [
    {
     "name": "stdout",
     "output_type": "stream",
     "text": [
      "[[0.80593693 0.19406307]\n",
      " [0.22433032 0.77566968]\n",
      " [0.82356407 0.17643593]\n",
      " [0.99880322 0.00119678]\n",
      " [0.92596562 0.07403438]\n",
      " [0.72137069 0.27862931]\n",
      " [0.99592324 0.00407676]\n",
      " [0.25413204 0.74586796]\n",
      " [0.98567197 0.01432803]\n",
      " [0.97654476 0.02345524]\n",
      " [0.32221495 0.67778505]\n",
      " [0.76734034 0.23265966]\n",
      " [0.60121169 0.39878831]\n",
      " [0.02572375 0.97427625]\n",
      " [0.24453501 0.75546499]\n",
      " [0.26421722 0.73578278]\n",
      " [0.98924046 0.01075954]\n",
      " [0.99385379 0.00614621]\n",
      " [0.99156696 0.00843304]]\n"
     ]
    }
   ],
   "source": [
    "# OUTPUT PROBABILITY\n",
    "#train_prob = log_regression.predict_proba(X_train)\n",
    "y_pre_proba = log_regression.predict_proba(X_test)\n",
    "print(y_pre_proba)"
   ]
  },
  {
   "cell_type": "code",
   "execution_count": 94,
   "id": "b39577f7",
   "metadata": {},
   "outputs": [
    {
     "name": "stdout",
     "output_type": "stream",
     "text": [
      "Accuracy is: 0.7368421052631579\n"
     ]
    }
   ],
   "source": [
    "# CHecking accuracy for LG_reg model \n",
    "acc = accuracy_score(y_test, y_pred)\n",
    "print('Accuracy is:', acc)"
   ]
  },
  {
   "cell_type": "code",
   "execution_count": 206,
   "id": "56a48261",
   "metadata": {},
   "outputs": [],
   "source": [
    "#report = classification_report(y_test, y_pred, output_dict=True)\n",
    "#pd.DataFrame(report).transpose()"
   ]
  },
  {
   "cell_type": "markdown",
   "id": "bcdc0b8a",
   "metadata": {},
   "source": [
    "Accuracy = (True Positive + True Negative) / (True Positive + False Positive + True Negative + False Negative).\n",
    "\n",
    "The precision for class 1 is, out of all predicted class values like 1, how many actually belong to class 1. Precision = TP / (TP + FP).\n",
    "\n",
    "Recall for class 1 is, out of all the values that actually belong to class 1, how much is predicted as class 1. Recall = TP / (TP + FN).\n"
   ]
  },
  {
   "cell_type": "code",
   "execution_count": 313,
   "id": "098b1e78",
   "metadata": {
    "scrolled": true
   },
   "outputs": [
    {
     "name": "stdout",
     "output_type": "stream",
     "text": [
      "Confusion Matrix is  :\n",
      " [[12  2]\n",
      " [ 1  4]]\n",
      "TP is : 12\n",
      "FP is : 2\n",
      "FN is : 1\n",
      "TN is : 4\n"
     ]
    }
   ],
   "source": [
    "conf = confusion_matrix(y_test, y_pred) \n",
    "print('Confusion Matrix is  :\\n',conf)\n",
    "TPl = conf[0][0]\n",
    "FPl = conf[0][1]\n",
    "FNl = conf[1][0]\n",
    "TNl = conf[1][1]\n",
    "print ('TP is :', TPl) \n",
    "print('FP is :', FPl) \n",
    "print('FN is :', FNl)\n",
    "print('TN is :', TNl)"
   ]
  },
  {
   "cell_type": "markdown",
   "id": "99e61e90",
   "metadata": {},
   "source": [
    "# Predicting Probability for full model : "
   ]
  },
  {
   "cell_type": "code",
   "execution_count": 285,
   "id": "9cb7f6cc",
   "metadata": {},
   "outputs": [],
   "source": [
    "model_LR = log_regression.fit(Best_var,Y)"
   ]
  },
  {
   "cell_type": "code",
   "execution_count": 286,
   "id": "3a3dfb83",
   "metadata": {},
   "outputs": [],
   "source": [
    "y_LR_pred = model_LR.predict(Best_var)\n",
    "y_LR_proba = model_LR.predict_proba(Best_var)"
   ]
  },
  {
   "cell_type": "code",
   "execution_count": 288,
   "id": "35a625b6",
   "metadata": {},
   "outputs": [],
   "source": [
    "np.set_printoptions(suppress = True) # This will suppress the expoential probability output. \n",
    "pd.DataFrame(y_LR_pred).to_excel('LR_whole_pred.xlsx')"
   ]
  },
  {
   "cell_type": "code",
   "execution_count": 155,
   "id": "f2a2b49c",
   "metadata": {},
   "outputs": [],
   "source": [
    "#report1 = classification_report(y_test, y_pred1, output_dict=True)\n",
    "#Cl_report1 = pd.DataFrame(report1).transpose()"
   ]
  },
  {
   "cell_type": "markdown",
   "id": "15a9d136",
   "metadata": {},
   "source": [
    "# Upon applying the LR \n",
    "The accuracy has dipped significantly after changin' setting the Range for IV value (0.5>IV>0.3).\n",
    "\n",
    "Previously it was 94 % now after filtering IV value its 73.68 %"
   ]
  },
  {
   "cell_type": "markdown",
   "id": "2390d02b",
   "metadata": {},
   "source": [
    "# ROC Curve for LG Regression (Lib_Linear)"
   ]
  },
  {
   "cell_type": "code",
   "execution_count": 300,
   "id": "38de3706",
   "metadata": {},
   "outputs": [
    {
     "data": {
      "image/png": "[encoded data removed]",
      "text/plain": [
       "<Figure size 432x288 with 1 Axes>"
      ]
     },
     "metadata": {},
     "output_type": "display_data"
    }
   ],
   "source": [
    "false_positive_rate, true_positive_rate, thresholds = roc_curve(y_test, y_pred)\n",
    "plt.title('Receiver Operating Characteristic')\n",
    "plt.plot(false_positive_rate, true_positive_rate)\n",
    "plt.plot([0,1],[0,1],'r--')\n",
    "plt.xlim([-0.1,1.2])\n",
    "plt.ylim([-0.1,1.2])\n",
    "plt.ylabel('True Positive Rate(Sensitivity)')\n",
    "plt.xlabel('False Positive Rate(1-Specificity)')\n",
    "plt.show()"
   ]
  },
  {
   "cell_type": "markdown",
   "id": "d28c0f2a",
   "metadata": {},
   "source": [
    "# 2) SVM CLASSIFIER"
   ]
  },
  {
   "cell_type": "code",
   "execution_count": 305,
   "id": "2e1aef32",
   "metadata": {},
   "outputs": [],
   "source": [
    "from sklearn import svm \n",
    "mod_svm = svm.SVC(kernel='linear', probability= True)\n",
    "svcc = mod_svm.fit(X_train,y_train)\n",
    "y_svc_pred = svcc.predict(X_test)\n",
    "y_svc_proba = svcc.predict_proba(X_test)"
   ]
  },
  {
   "cell_type": "code",
   "execution_count": null,
   "id": "63d3f780",
   "metadata": {},
   "outputs": [],
   "source": []
  },
  {
   "cell_type": "code",
   "execution_count": 245,
   "id": "78a2e6e5",
   "metadata": {},
   "outputs": [],
   "source": [
    "pd.DataFrame(y_svc_pred).to_excel('SVC_test_prediction_03Mar.xlsx')\n",
    "pd.DataFrame(y_svc_proba).to_excel('SVC_test_proba_03Mar.xlsx')"
   ]
  },
  {
   "cell_type": "code",
   "execution_count": 208,
   "id": "aeac9f39",
   "metadata": {},
   "outputs": [],
   "source": [
    "# Best_var.head()"
   ]
  },
  {
   "cell_type": "code",
   "execution_count": 214,
   "id": "b8231c16",
   "metadata": {},
   "outputs": [],
   "source": [
    "# Preciting Probablities for full data \n",
    "sv1 = mod_svm.fit(Best_var,Y)\n",
    "y_train_pred = sv1.predict(Best_var)\n",
    "y_train_proba = sv1.predict_proba(Best_var)"
   ]
  },
  {
   "cell_type": "code",
   "execution_count": 262,
   "id": "f1bd4d09",
   "metadata": {},
   "outputs": [
    {
     "data": {
      "text/plain": [
       "array([[0.87495804, 0.12504196],\n",
       "       [0.98264336, 0.01735664],\n",
       "       [0.76732338, 0.23267662],\n",
       "       [0.95364839, 0.04635161],\n",
       "       [0.98399115, 0.01600885],\n",
       "       [0.91514538, 0.08485462],\n",
       "       [0.9326792 , 0.0673208 ],\n",
       "       [0.76738271, 0.23261729],\n",
       "       [0.86142135, 0.13857865],\n",
       "       [0.4633196 , 0.5366804 ],\n",
       "       [0.94578484, 0.05421516],\n",
       "       [0.94954171, 0.05045829],\n",
       "       [0.85429749, 0.14570251],\n",
       "       [0.97099116, 0.02900884],\n",
       "       [0.81426053, 0.18573947],\n",
       "       [0.87171576, 0.12828424],\n",
       "       [0.96130562, 0.03869438],\n",
       "       [0.97465775, 0.02534225],\n",
       "       [0.46552523, 0.53447477],\n",
       "       [0.97764477, 0.02235523],\n",
       "       [0.97957013, 0.02042987],\n",
       "       [0.96478643, 0.03521357],\n",
       "       [0.76740257, 0.23259743],\n",
       "       [0.84672172, 0.15327828],\n",
       "       [0.88711563, 0.11288437],\n",
       "       [0.6483394 , 0.3516606 ],\n",
       "       [0.66451567, 0.33548433],\n",
       "       [0.46552559, 0.53447441],\n",
       "       [0.4654912 , 0.5345088 ],\n",
       "       [0.89696835, 0.10303165],\n",
       "       [0.31244768, 0.68755232],\n",
       "       [0.2753677 , 0.7246323 ],\n",
       "       [0.45433852, 0.54566148],\n",
       "       [0.86581799, 0.13418201],\n",
       "       [0.90675425, 0.09324575],\n",
       "       [0.94715182, 0.05284818],\n",
       "       [0.94290427, 0.05709573],\n",
       "       [0.66899455, 0.33100545],\n",
       "       [0.77655196, 0.22344804],\n",
       "       [0.65964589, 0.34035411],\n",
       "       [0.46556422, 0.53443578],\n",
       "       [0.97565556, 0.02434444],\n",
       "       [0.97828984, 0.02171016],\n",
       "       [0.76735391, 0.23264609],\n",
       "       [0.25236274, 0.74763726],\n",
       "       [0.46559493, 0.53440507],\n",
       "       [0.4117569 , 0.5882431 ],\n",
       "       [0.61222097, 0.38777903],\n",
       "       [0.05114829, 0.94885171],\n",
       "       [0.95969242, 0.04030758],\n",
       "       [0.97210461, 0.02789539],\n",
       "       [0.60767694, 0.39232306],\n",
       "       [0.79316639, 0.20683361],\n",
       "       [0.46549564, 0.53450436],\n",
       "       [0.9153444 , 0.0846556 ],\n",
       "       [0.46551566, 0.53448434],\n",
       "       [0.84467405, 0.15532595],\n",
       "       [0.92323645, 0.07676355],\n",
       "       [0.46543006, 0.53456994],\n",
       "       [0.73476093, 0.26523907],\n",
       "       [0.9776613 , 0.0223387 ],\n",
       "       [0.94168956, 0.05831044],\n",
       "       [0.91494501, 0.08505499],\n",
       "       [0.9542218 , 0.0457782 ],\n",
       "       [0.79906782, 0.20093218],\n",
       "       [0.91724974, 0.08275026],\n",
       "       [0.82656967, 0.17343033],\n",
       "       [0.96237579, 0.03762421],\n",
       "       [0.88213154, 0.11786846],\n",
       "       [0.96273177, 0.03726823],\n",
       "       [0.93484908, 0.06515092],\n",
       "       [0.94114918, 0.05885082],\n",
       "       [0.84596402, 0.15403598],\n",
       "       [0.46544412, 0.53455588],\n",
       "       [0.9155723 , 0.0844277 ],\n",
       "       [0.85355922, 0.14644078],\n",
       "       [0.91972119, 0.08027881],\n",
       "       [0.96819393, 0.03180607],\n",
       "       [0.98080043, 0.01919957],\n",
       "       [0.95566319, 0.04433681],\n",
       "       [0.96379884, 0.03620116],\n",
       "       [0.95411299, 0.04588701],\n",
       "       [0.9654376 , 0.0345624 ],\n",
       "       [0.85495371, 0.14504629],\n",
       "       [0.94098827, 0.05901173],\n",
       "       [0.95280877, 0.04719123],\n",
       "       [0.76736733, 0.23263267],\n",
       "       [0.96397179, 0.03602821],\n",
       "       [0.91510453, 0.08489547],\n",
       "       [0.94923938, 0.05076062],\n",
       "       [0.94790692, 0.05209308],\n",
       "       [0.97176496, 0.02823504],\n",
       "       [0.97681378, 0.02318622],\n",
       "       [0.91472078, 0.08527922],\n",
       "       [0.93152394, 0.06847606],\n",
       "       [0.76737453, 0.23262547],\n",
       "       [0.97176496, 0.02823504],\n",
       "       [0.56130426, 0.43869574],\n",
       "       [0.73831598, 0.26168402],\n",
       "       [0.81744858, 0.18255142],\n",
       "       [0.9862565 , 0.0137435 ],\n",
       "       [0.90885415, 0.09114585],\n",
       "       [0.81326191, 0.18673809],\n",
       "       [0.91383468, 0.08616532],\n",
       "       [0.91063461, 0.08936539],\n",
       "       [0.76737452, 0.23262548],\n",
       "       [0.85428691, 0.14571309]])"
      ]
     },
     "execution_count": 262,
     "metadata": {},
     "output_type": "execute_result"
    }
   ],
   "source": [
    "y_train_proba"
   ]
  },
  {
   "cell_type": "code",
   "execution_count": 250,
   "id": "a1acdb46",
   "metadata": {},
   "outputs": [],
   "source": [
    "pd.DataFrame(y_train_pred).to_excel('SVC_whole_pred.xlsx')"
   ]
  },
  {
   "cell_type": "code",
   "execution_count": 210,
   "id": "348ffa04",
   "metadata": {},
   "outputs": [],
   "source": [
    "#accuracy_score(y_train_pred,Y)"
   ]
  },
  {
   "cell_type": "code",
   "execution_count": 215,
   "id": "ecb64f0f",
   "metadata": {},
   "outputs": [],
   "source": [
    "y_full_pred = y_train_pred.reshape(-1,1)\n",
    "y_full_pred = pd.DataFrame(y_train_pred)\n",
    "y_full_proba = pd.DataFrame(y_train_proba)\n",
    "out_proba11 = pd.merge(y_full_proba,y_full_pred, left_index=True, right_index=True)"
   ]
  },
  {
   "cell_type": "code",
   "execution_count": null,
   "id": "114a5311",
   "metadata": {},
   "outputs": [],
   "source": []
  },
  {
   "cell_type": "code",
   "execution_count": 246,
   "id": "f8eee4f5",
   "metadata": {},
   "outputs": [],
   "source": [
    "out_proba11.to_excel('SVC_training_set_proba.xlsx')"
   ]
  },
  {
   "cell_type": "code",
   "execution_count": 306,
   "id": "cda8cf89",
   "metadata": {},
   "outputs": [
    {
     "data": {
      "text/plain": [
       "73.68421052631578"
      ]
     },
     "execution_count": 306,
     "metadata": {},
     "output_type": "execute_result"
    }
   ],
   "source": [
    "# SVM Accuracy score \n",
    "acc_svc = accuracy_score( y_svc_pred,y_test)\n",
    "print('The accuracy is :, ' acc_svc*100)"
   ]
  },
  {
   "cell_type": "code",
   "execution_count": 235,
   "id": "b1817b50",
   "metadata": {},
   "outputs": [
    {
     "data": {
      "text/plain": [
       "(19, 2)"
      ]
     },
     "execution_count": 235,
     "metadata": {},
     "output_type": "execute_result"
    }
   ],
   "source": [
    "y_svc_proba.shape"
   ]
  },
  {
   "cell_type": "code",
   "execution_count": 51,
   "id": "dc4b93b0",
   "metadata": {},
   "outputs": [],
   "source": [
    "# out_proba11.to_excel('Out_with_proba_full_data.xlsx')"
   ]
  },
  {
   "cell_type": "code",
   "execution_count": 168,
   "id": "2013390d",
   "metadata": {},
   "outputs": [],
   "source": [
    "# Taking Output to Excel\n",
    "#y_svc = y_svc_pred.reshape(-1,1)\n",
    "#y_svc = pd.DataFrame(y_svc)\n",
    "#y_svc_proba = pd.DataFrame(y_svc_proba)\n",
    "#out_proba = pd.merge(y_svc_proba,y_svc, left_index=True, right_index=True)\n",
    "#out_proba.head()\n",
    "#TEST_y = y_test.reset_index()\n",
    "#TEST_y.to_excel('Test_y_values.xlsx')\n",
    "#out_proba.to_excel('Out_with_probability.xlsx')\n"
   ]
  },
  {
   "cell_type": "code",
   "execution_count": 312,
   "id": "95968375",
   "metadata": {},
   "outputs": [
    {
     "name": "stdout",
     "output_type": "stream",
     "text": [
      "[[13  4]\n",
      " [ 1  1]]\n",
      "TP is : 13\n",
      "FP is : 4\n",
      "FN is : 1\n",
      "TN is : 1\n"
     ]
    }
   ],
   "source": [
    "# Confusion MATRIX SVM  :\n",
    "conf_sv=  confusion_matrix(y_svc_pred, y_test) \n",
    "\n",
    "TPS = conf_sv[0][0]\n",
    "FPS = conf_sv[0][1]\n",
    "FNS = conf_sv[1][0]\n",
    "TNS = conf_sv[1][1]\n",
    "print(conf_sv)\n",
    "print ('TP is :', TPS) \n",
    "print('FP is :', FPS) \n",
    "print('FN is :', FNS)\n",
    "print('TN is :', TNS)\n"
   ]
  },
  {
   "cell_type": "code",
   "execution_count": 310,
   "id": "d6eb89f4",
   "metadata": {},
   "outputs": [
    {
     "data": {
      "image/png": "[encoded data removed]",
      "text/plain": [
       "<Figure size 432x288 with 1 Axes>"
      ]
     },
     "metadata": {},
     "output_type": "display_data"
    }
   ],
   "source": [
    "false_positive_rate, true_positive_rate, thresholds = roc_curve(y_svc_pred, y_test)\n",
    "plt.title('Receiver Operating Characteristic')\n",
    "plt.plot(false_positive_rate, true_positive_rate)\n",
    "plt.plot([0,1],[0,1],'r--')\n",
    "plt.xlim([-0.1,1])\n",
    "plt.ylim([-0.1,1])\n",
    "plt.ylabel('True Positive Rate(Sensitivity)')\n",
    "plt.xlabel('False Positive Rate(1-Specificity)')\n",
    "plt.show()"
   ]
  },
  {
   "cell_type": "markdown",
   "id": "c095a862",
   "metadata": {},
   "source": [
    "# 3) NAIVE BAYESIAN CLASSIFIER"
   ]
  },
  {
   "cell_type": "markdown",
   "id": "b1aa9c6b",
   "metadata": {},
   "source": [
    "1) BERNOULLI NB"
   ]
  },
  {
   "cell_type": "code",
   "execution_count": 289,
   "id": "5795a887",
   "metadata": {},
   "outputs": [],
   "source": [
    "from sklearn.naive_bayes import BernoulliNB\n",
    "clas_BNB= BernoulliNB()\n",
    "clas_BNB.fit(X_train, y_train)\n",
    "y_pred_NB = clas_BNB.predict(X_test)"
   ]
  },
  {
   "cell_type": "code",
   "execution_count": 292,
   "id": "a233257e",
   "metadata": {},
   "outputs": [
    {
     "name": "stdout",
     "output_type": "stream",
     "text": [
      "0.8421052631578947\n"
     ]
    }
   ],
   "source": [
    "# printing the accuracy of the model\n",
    "print(accuracy_score(y_pred_NB, y_test))"
   ]
  },
  {
   "cell_type": "code",
   "execution_count": 315,
   "id": "85700788",
   "metadata": {},
   "outputs": [
    {
     "name": "stdout",
     "output_type": "stream",
     "text": [
      "[[11  3]\n",
      " [ 0  5]]\n",
      "TP is : 11\n",
      "FP is : 3\n",
      "FN is : 0\n",
      "TN is : 5\n"
     ]
    }
   ],
   "source": [
    "conf_NB =  confusion_matrix(y_test, y_pred_NB) \n",
    "\n",
    "TP = conf_NB[0][0]\n",
    "FP = conf_NB[0][1]\n",
    "FN = conf_NB[1][0]\n",
    "TN = conf_NB[1][1]\n",
    "print(conf_NB)\n",
    "print ('TP is :', TP) \n",
    "print('FP is :', FP) \n",
    "print('FN is :', FN)\n",
    "print('TN is :', TN)"
   ]
  },
  {
   "cell_type": "code",
   "execution_count": 323,
   "id": "e5598c1f",
   "metadata": {},
   "outputs": [],
   "source": [
    "from sklearn.metrics import roc_curve\n",
    "from sklearn.metrics import auc"
   ]
  },
  {
   "cell_type": "code",
   "execution_count": 325,
   "id": "faff36f4",
   "metadata": {},
   "outputs": [
    {
     "data": {
      "image/png": "[encoded data removed]",
      "text/plain": [
       "<Figure size 432x288 with 1 Axes>"
      ]
     },
     "metadata": {},
     "output_type": "display_data"
    }
   ],
   "source": [
    "false_positive_rate, true_positive_rate, thresholds = roc_curve(y_svc_pred, y_test)\n",
    "roc_auc = auc(false_positive_rate, true_positive_rate)\n",
    "plt.title('Receiver Operating Characteristic')\n",
    "plt.plot(false_positive_rate, true_positive_rate, label='ROC curve (area = %0.3f)' % roc_auc)\n",
    "plt.plot([0,1],[0,1],'r--')\n",
    "plt.xlim([-0.1,1])\n",
    "plt.ylim([-0.1,1])\n",
    "plt.ylabel('True Positive Rate(Sensitivity)')\n",
    "plt.xlabel('False Positive Rate(1-Specificity)')\n",
    "plt.show()"
   ]
  },
  {
   "cell_type": "code",
   "execution_count": 316,
   "id": "1be5a9e3",
   "metadata": {},
   "outputs": [],
   "source": [
    "# Sensitivity, hit rate, recall, or true positive rate\n",
    "TPR = TP/(TP+FN)\n",
    "# Specificity or true negative rate\n",
    "TNR = TN/(TN+FP) \n",
    "# Precision or positive predictive value\n",
    "PPV = TP/(TP+FP)\n",
    "# Negative predictive value\n",
    "NPV = TN/(TN+FN)\n",
    "# Fall out or false positive rate\n",
    "FPR = FP/(FP+TN)\n",
    "# False negative rate\n",
    "FNR = FN/(TP+FN)\n",
    "# False discovery rate\n",
    "FDR = FP/(TP+FP)\n",
    "\n",
    "# Overall accuracy\n",
    "ACC = (TP+TN)/(TP+FP+FN+TN)"
   ]
  },
  {
   "cell_type": "code",
   "execution_count": 318,
   "id": "5606bdca",
   "metadata": {},
   "outputs": [
    {
     "name": "stdout",
     "output_type": "stream",
     "text": [
      "1.0\n",
      "0.625\n",
      "0.7857142857142857\n",
      "1.0\n",
      "0.375\n",
      "0.0\n",
      "0.21428571428571427\n"
     ]
    }
   ],
   "source": [
    "print(TPR)\n",
    "print(TNR)\n",
    "print(PPV)\n",
    "print(NPV)\n",
    "print(FPR)\n",
    "print(FNR)\n",
    "print(FDR)"
   ]
  },
  {
   "cell_type": "code",
   "execution_count": null,
   "id": "b03d45f5",
   "metadata": {},
   "outputs": [],
   "source": [
    "from sklearn.metrics import roc_curve\n",
    "from sklearn.metrics import auc\n"
   ]
  },
  {
   "cell_type": "markdown",
   "id": "7a2af2ba",
   "metadata": {},
   "source": [
    "# FULL DATA PROBA USING BNB"
   ]
  },
  {
   "cell_type": "code",
   "execution_count": 290,
   "id": "2d88fe23",
   "metadata": {},
   "outputs": [],
   "source": [
    "bnb = clas_BNB.fit(Best_var, Y)\n",
    "fu_pred = bnb.predict(Best_var)\n",
    "fu_prob = bnb.predict_proba(Best_var)"
   ]
  },
  {
   "cell_type": "code",
   "execution_count": 297,
   "id": "11b134eb",
   "metadata": {},
   "outputs": [],
   "source": [
    "pd.DataFrame(fu_prob).to_excel('BNB_whole_proba.xlsx')"
   ]
  },
  {
   "cell_type": "code",
   "execution_count": null,
   "id": "59b936ae",
   "metadata": {},
   "outputs": [],
   "source": []
  },
  {
   "cell_type": "code",
   "execution_count": null,
   "id": "2816cf01",
   "metadata": {},
   "outputs": [],
   "source": []
  },
  {
   "cell_type": "code",
   "execution_count": null,
   "id": "640314cd",
   "metadata": {},
   "outputs": [],
   "source": []
  },
  {
   "cell_type": "code",
   "execution_count": null,
   "id": "9624237d",
   "metadata": {},
   "outputs": [],
   "source": []
  },
  {
   "cell_type": "code",
   "execution_count": null,
   "id": "a92af8b7",
   "metadata": {},
   "outputs": [],
   "source": []
  },
  {
   "cell_type": "code",
   "execution_count": null,
   "id": "c67f7ad6",
   "metadata": {},
   "outputs": [],
   "source": []
  },
  {
   "cell_type": "code",
   "execution_count": null,
   "id": "7eb3779c",
   "metadata": {},
   "outputs": [],
   "source": []
  },
  {
   "cell_type": "code",
   "execution_count": null,
   "id": "a2d32fc6",
   "metadata": {},
   "outputs": [],
   "source": []
  },
  {
   "cell_type": "code",
   "execution_count": null,
   "id": "510d3791",
   "metadata": {},
   "outputs": [],
   "source": []
  },
  {
   "cell_type": "code",
   "execution_count": null,
   "id": "866c1dd5",
   "metadata": {},
   "outputs": [],
   "source": []
  },
  {
   "cell_type": "code",
   "execution_count": null,
   "id": "02dc93f7",
   "metadata": {},
   "outputs": [],
   "source": []
  },
  {
   "cell_type": "code",
   "execution_count": null,
   "id": "a822b4c0",
   "metadata": {},
   "outputs": [],
   "source": []
  },
  {
   "cell_type": "code",
   "execution_count": null,
   "id": "cff0a505",
   "metadata": {},
   "outputs": [],
   "source": []
  },
  {
   "cell_type": "code",
   "execution_count": null,
   "id": "8cf46591",
   "metadata": {},
   "outputs": [],
   "source": []
  },
  {
   "cell_type": "code",
   "execution_count": 175,
   "id": "04e24c02",
   "metadata": {},
   "outputs": [],
   "source": [
    "# WOE(WEIGHT OF EVIDENCE AND INFORMATION VALUEE)"
   ]
  },
  {
   "cell_type": "code",
   "execution_count": 4,
   "id": "f6c34174",
   "metadata": {},
   "outputs": [],
   "source": [
    "list1=[]\n",
    "count0list=[]\n",
    "count1list=[]\n",
    "for i,j in df_.iterrows():\n",
    "    count0=0\n",
    "    count1=0\n",
    "    a=j['202110_int']\n",
    "    if j['202110_int'] in list1:\n",
    "        pass\n",
    "    else:\n",
    "        list1.append(a)\n",
    "        for b,z in df_.iterrows():\n",
    "            if a==z['202110_int']:\n",
    "                if z['Target']==0:\n",
    "                    count0=count0+1\n",
    "                else:\n",
    "                    count1=count1+1\n",
    "        count0list.append(count0)\n",
    "        count1list.append(count1)\n",
    "pivot=pd.DataFrame({'nodes':list1,'0':count0list,'1':count1list})\n",
    "pivot=pivot.sort_values(by=['nodes'])"
   ]
  },
  {
   "cell_type": "code",
   "execution_count": 6,
   "id": "b1c64ae6",
   "metadata": {},
   "outputs": [
    {
     "name": "stderr",
     "output_type": "stream",
     "text": [
      "C:\\Users\\rcmlp.22\\Anaconda3\\lib\\site-packages\\pandas\\core\\arraylike.py:364: RuntimeWarning: divide by zero encountered in log\n",
      "  result = getattr(ufunc, method)(*inputs, **kwargs)\n"
     ]
    },
    {
     "data": {
      "text/plain": [
       "0.3591454560141978"
      ]
     },
     "execution_count": 6,
     "metadata": {},
     "output_type": "execute_result"
    }
   ],
   "source": [
    "pivot['Grand Total']=pivot['0']+pivot['1']\n",
    "pivot['percent_G']=pivot['0']/pivot['Grand Total']\n",
    "pivot['% of Good']=pivot['0']/86\n",
    "pivot['percent_B']=pivot['1']/pivot['Grand Total']\n",
    "pivot['% of Bad']=pivot['1']/21\n",
    "pivot['%G-%B']=pivot['% of Bad']-pivot['% of Good']\n",
    "pivot['WOE']=np.log(pivot['% of Bad']/pivot['% of Good'])\n",
    "pivot['IV']=pivot['WOE']*pivot['%G-%B']\n",
    "pivot.replace([np.inf, -np.inf], np.nan, inplace=True)\n",
    "totalIV=pivot['IV'].sum()\n",
    "totalIV"
   ]
  },
  {
   "cell_type": "code",
   "execution_count": null,
   "id": "d14a8be8",
   "metadata": {},
   "outputs": [],
   "source": []
  }
 ],
 "metadata": {
  "kernelspec": {
   "display_name": "Python 3 (ipykernel)",
   "language": "python",
   "name": "python3"
  },
  "language_info": {
   "codemirror_mode": {
    "name": "ipython",
    "version": 3
   },
   "file_extension": ".py",
   "mimetype": "text/x-python",
   "name": "python",
   "nbconvert_exporter": "python",
   "pygments_lexer": "ipython3",
   "version": "3.9.13"
  }
 },
 "nbformat": 4,
 "nbformat_minor": 5
}
