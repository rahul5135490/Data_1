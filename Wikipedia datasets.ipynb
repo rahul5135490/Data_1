{
 "cells": [
  {
   "cell_type": "code",
   "execution_count": 1,
   "id": "a545a152",
   "metadata": {},
   "outputs": [],
   "source": [
    "import numpy as np"
   ]
  },
  {
   "cell_type": "code",
   "execution_count": 2,
   "id": "fa43fe20",
   "metadata": {},
   "outputs": [],
   "source": [
    "import pandas as pd"
   ]
  },
  {
   "cell_type": "code",
   "execution_count": 7,
   "id": "7a17d8ad",
   "metadata": {},
   "outputs": [],
   "source": [
    "html=pd.read_html(\"https://www.wikidata.org/wiki/Property:P1687\")"
   ]
  },
  {
   "cell_type": "code",
   "execution_count": 8,
   "id": "e6fdec11",
   "metadata": {},
   "outputs": [
    {
     "data": {
      "text/html": [
       "<div>\n",
       "<style scoped>\n",
       "    .dataframe tbody tr th:only-of-type {\n",
       "        vertical-align: middle;\n",
       "    }\n",
       "\n",
       "    .dataframe tbody tr th {\n",
       "        vertical-align: top;\n",
       "    }\n",
       "\n",
       "    .dataframe thead th {\n",
       "        text-align: right;\n",
       "    }\n",
       "</style>\n",
       "<table border=\"1\" class=\"dataframe\">\n",
       "  <thead>\n",
       "    <tr style=\"text-align: right;\">\n",
       "      <th></th>\n",
       "      <th>Language</th>\n",
       "      <th>Label</th>\n",
       "      <th>Description</th>\n",
       "      <th>Also known as</th>\n",
       "    </tr>\n",
       "  </thead>\n",
       "  <tbody>\n",
       "    <tr>\n",
       "      <th>0</th>\n",
       "      <td>English</td>\n",
       "      <td>Wikidata property</td>\n",
       "      <td>main Wikidata property for this item</td>\n",
       "      <td>propertymain property</td>\n",
       "    </tr>\n",
       "  </tbody>\n",
       "</table>\n",
       "</div>"
      ],
      "text/plain": [
       "  Language              Label                           Description  \\\n",
       "0  English  Wikidata property  main Wikidata property for this item   \n",
       "\n",
       "           Also known as  \n",
       "0  propertymain property  "
      ]
     },
     "execution_count": 8,
     "metadata": {},
     "output_type": "execute_result"
    }
   ],
   "source": [
    "html[0]"
   ]
  },
  {
   "cell_type": "code",
   "execution_count": 9,
   "id": "bc6c7f11",
   "metadata": {},
   "outputs": [
    {
     "data": {
      "text/plain": [
       "[  Language              Label                           Description  \\\n",
       " 0  English  Wikidata property  main Wikidata property for this item   \n",
       " \n",
       "            Also known as  \n",
       " 0  propertymain property  ]"
      ]
     },
     "execution_count": 9,
     "metadata": {},
     "output_type": "execute_result"
    }
   ],
   "source": [
    "html"
   ]
  },
  {
   "cell_type": "code",
   "execution_count": 11,
   "id": "0d03f281",
   "metadata": {},
   "outputs": [],
   "source": [
    "html[0].to_html('demo.html')"
   ]
  },
  {
   "cell_type": "code",
   "execution_count": null,
   "id": "f9a8322e",
   "metadata": {},
   "outputs": [],
   "source": []
  }
 ],
 "metadata": {
  "kernelspec": {
   "display_name": "Python 3 (ipykernel)",
   "language": "python",
   "name": "python3"
  },
  "language_info": {
   "codemirror_mode": {
    "name": "ipython",
    "version": 3
   },
   "file_extension": ".py",
   "mimetype": "text/x-python",
   "name": "python",
   "nbconvert_exporter": "python",
   "pygments_lexer": "ipython3",
   "version": "3.9.13"
  }
 },
 "nbformat": 4,
 "nbformat_minor": 5
}
